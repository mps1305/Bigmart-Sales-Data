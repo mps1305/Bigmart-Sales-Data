{
 "cells": [
  {
   "cell_type": "code",
   "execution_count": 63,
   "metadata": {},
   "outputs": [],
   "source": [
    "import pandas as pd\n",
    "import numpy as np\n",
    "import matplotlib.pyplot as plt\n",
    "from sklearn import preprocessing\n",
    "from sklearn.preprocessing import PolynomialFeatures as pf\n",
    "from sklearn.preprocessing import StandardScaler\n",
    "from sklearn.linear_model import LinearRegression\n",
    "from sklearn.pipeline import Pipeline\n",
    "import seaborn as sns\n",
    "import scipy.stats as stats\n",
    "from sklearn.model_selection import train_test_split\n",
    "from sklearn.model_selection import cross_val_score\n",
    "from sklearn.linear_model import Ridge\n",
    "from sklearn.model_selection import cross_val_score\n",
    "from sklearn.model_selection import GridSearchCV\n",
    "#for logistic regression\n",
    "from sklearn.linear_model import LogisticRegression\n",
    "from sklearn.metrics import confusion_matrix\n",
    "from sklearn.metrics import accuracy_score\n",
    "from sklearn.metrics import classification_report\n",
    "from sklearn.decomposition import PCA"
   ]
  },
  {
   "cell_type": "code",
   "execution_count": 151,
   "metadata": {},
   "outputs": [],
   "source": [
    "from numpy import math"
   ]
  },
  {
   "cell_type": "code",
   "execution_count": null,
   "metadata": {},
   "outputs": [],
   "source": [
    "csv = \"E:\\\\Python\\\\Bigmart Sales\\\\bigmart cleaned.csv\"\n",
    "df = pd.read_csv(csv)"
   ]
  },
  {
   "cell_type": "code",
   "execution_count": 5,
   "metadata": {},
   "outputs": [],
   "source": [
    "df = df.iloc[:,1:]"
   ]
  },
  {
   "cell_type": "code",
   "execution_count": 11,
   "metadata": {},
   "outputs": [
    {
     "data": {
      "text/html": [
       "<div>\n",
       "<style scoped>\n",
       "    .dataframe tbody tr th:only-of-type {\n",
       "        vertical-align: middle;\n",
       "    }\n",
       "\n",
       "    .dataframe tbody tr th {\n",
       "        vertical-align: top;\n",
       "    }\n",
       "\n",
       "    .dataframe thead th {\n",
       "        text-align: right;\n",
       "    }\n",
       "</style>\n",
       "<table border=\"1\" class=\"dataframe\">\n",
       "  <thead>\n",
       "    <tr style=\"text-align: right;\">\n",
       "      <th></th>\n",
       "      <th>Item_Identifier</th>\n",
       "      <th>Item_Weight</th>\n",
       "      <th>Item_Fat_Content</th>\n",
       "      <th>Item_Visibility</th>\n",
       "      <th>Item_Type</th>\n",
       "      <th>Item_MRP</th>\n",
       "      <th>Outlet_Identifier</th>\n",
       "      <th>Outlet_Establishment_Year</th>\n",
       "      <th>Outlet_Size</th>\n",
       "      <th>Outlet_Location_Type</th>\n",
       "      <th>Outlet_Type</th>\n",
       "      <th>Item_Outlet_Sales</th>\n",
       "      <th>Outlet_Age</th>\n",
       "    </tr>\n",
       "  </thead>\n",
       "  <tbody>\n",
       "    <tr>\n",
       "      <th>count</th>\n",
       "      <td>8523</td>\n",
       "      <td>7060.000000</td>\n",
       "      <td>8523</td>\n",
       "      <td>8523.000000</td>\n",
       "      <td>8523</td>\n",
       "      <td>8523.000000</td>\n",
       "      <td>8523</td>\n",
       "      <td>8523.000000</td>\n",
       "      <td>8523</td>\n",
       "      <td>8523</td>\n",
       "      <td>8523</td>\n",
       "      <td>8523.000000</td>\n",
       "      <td>8523.000000</td>\n",
       "    </tr>\n",
       "    <tr>\n",
       "      <th>unique</th>\n",
       "      <td>1559</td>\n",
       "      <td>NaN</td>\n",
       "      <td>2</td>\n",
       "      <td>NaN</td>\n",
       "      <td>15</td>\n",
       "      <td>NaN</td>\n",
       "      <td>10</td>\n",
       "      <td>NaN</td>\n",
       "      <td>3</td>\n",
       "      <td>3</td>\n",
       "      <td>4</td>\n",
       "      <td>NaN</td>\n",
       "      <td>NaN</td>\n",
       "    </tr>\n",
       "    <tr>\n",
       "      <th>top</th>\n",
       "      <td>FDG33</td>\n",
       "      <td>NaN</td>\n",
       "      <td>Low Fat</td>\n",
       "      <td>NaN</td>\n",
       "      <td>Fruits and Vegetables</td>\n",
       "      <td>NaN</td>\n",
       "      <td>OUT027</td>\n",
       "      <td>NaN</td>\n",
       "      <td>Small</td>\n",
       "      <td>Tier 3</td>\n",
       "      <td>Supermarket Type1</td>\n",
       "      <td>NaN</td>\n",
       "      <td>NaN</td>\n",
       "    </tr>\n",
       "    <tr>\n",
       "      <th>freq</th>\n",
       "      <td>10</td>\n",
       "      <td>NaN</td>\n",
       "      <td>5517</td>\n",
       "      <td>NaN</td>\n",
       "      <td>1232</td>\n",
       "      <td>NaN</td>\n",
       "      <td>935</td>\n",
       "      <td>NaN</td>\n",
       "      <td>4798</td>\n",
       "      <td>3350</td>\n",
       "      <td>5577</td>\n",
       "      <td>NaN</td>\n",
       "      <td>NaN</td>\n",
       "    </tr>\n",
       "    <tr>\n",
       "      <th>mean</th>\n",
       "      <td>NaN</td>\n",
       "      <td>12.857645</td>\n",
       "      <td>NaN</td>\n",
       "      <td>0.066132</td>\n",
       "      <td>NaN</td>\n",
       "      <td>140.992782</td>\n",
       "      <td>NaN</td>\n",
       "      <td>1997.831867</td>\n",
       "      <td>NaN</td>\n",
       "      <td>NaN</td>\n",
       "      <td>NaN</td>\n",
       "      <td>2181.288914</td>\n",
       "      <td>15.168133</td>\n",
       "    </tr>\n",
       "    <tr>\n",
       "      <th>std</th>\n",
       "      <td>NaN</td>\n",
       "      <td>4.643456</td>\n",
       "      <td>NaN</td>\n",
       "      <td>0.051598</td>\n",
       "      <td>NaN</td>\n",
       "      <td>62.275067</td>\n",
       "      <td>NaN</td>\n",
       "      <td>8.371760</td>\n",
       "      <td>NaN</td>\n",
       "      <td>NaN</td>\n",
       "      <td>NaN</td>\n",
       "      <td>1706.499616</td>\n",
       "      <td>8.371760</td>\n",
       "    </tr>\n",
       "    <tr>\n",
       "      <th>min</th>\n",
       "      <td>NaN</td>\n",
       "      <td>4.555000</td>\n",
       "      <td>NaN</td>\n",
       "      <td>0.000000</td>\n",
       "      <td>NaN</td>\n",
       "      <td>31.290000</td>\n",
       "      <td>NaN</td>\n",
       "      <td>1985.000000</td>\n",
       "      <td>NaN</td>\n",
       "      <td>NaN</td>\n",
       "      <td>NaN</td>\n",
       "      <td>33.290000</td>\n",
       "      <td>4.000000</td>\n",
       "    </tr>\n",
       "    <tr>\n",
       "      <th>25%</th>\n",
       "      <td>NaN</td>\n",
       "      <td>8.773750</td>\n",
       "      <td>NaN</td>\n",
       "      <td>0.026989</td>\n",
       "      <td>NaN</td>\n",
       "      <td>93.826500</td>\n",
       "      <td>NaN</td>\n",
       "      <td>1987.000000</td>\n",
       "      <td>NaN</td>\n",
       "      <td>NaN</td>\n",
       "      <td>NaN</td>\n",
       "      <td>834.247400</td>\n",
       "      <td>9.000000</td>\n",
       "    </tr>\n",
       "    <tr>\n",
       "      <th>50%</th>\n",
       "      <td>NaN</td>\n",
       "      <td>12.600000</td>\n",
       "      <td>NaN</td>\n",
       "      <td>0.053931</td>\n",
       "      <td>NaN</td>\n",
       "      <td>143.012800</td>\n",
       "      <td>NaN</td>\n",
       "      <td>1999.000000</td>\n",
       "      <td>NaN</td>\n",
       "      <td>NaN</td>\n",
       "      <td>NaN</td>\n",
       "      <td>1794.331000</td>\n",
       "      <td>14.000000</td>\n",
       "    </tr>\n",
       "    <tr>\n",
       "      <th>75%</th>\n",
       "      <td>NaN</td>\n",
       "      <td>16.850000</td>\n",
       "      <td>NaN</td>\n",
       "      <td>0.094585</td>\n",
       "      <td>NaN</td>\n",
       "      <td>185.643700</td>\n",
       "      <td>NaN</td>\n",
       "      <td>2004.000000</td>\n",
       "      <td>NaN</td>\n",
       "      <td>NaN</td>\n",
       "      <td>NaN</td>\n",
       "      <td>3101.296400</td>\n",
       "      <td>26.000000</td>\n",
       "    </tr>\n",
       "    <tr>\n",
       "      <th>max</th>\n",
       "      <td>NaN</td>\n",
       "      <td>21.350000</td>\n",
       "      <td>NaN</td>\n",
       "      <td>0.328391</td>\n",
       "      <td>NaN</td>\n",
       "      <td>266.888400</td>\n",
       "      <td>NaN</td>\n",
       "      <td>2009.000000</td>\n",
       "      <td>NaN</td>\n",
       "      <td>NaN</td>\n",
       "      <td>NaN</td>\n",
       "      <td>13086.964800</td>\n",
       "      <td>28.000000</td>\n",
       "    </tr>\n",
       "  </tbody>\n",
       "</table>\n",
       "</div>"
      ],
      "text/plain": [
       "       Item_Identifier  Item_Weight Item_Fat_Content  Item_Visibility  \\\n",
       "count             8523  7060.000000             8523      8523.000000   \n",
       "unique            1559          NaN                2              NaN   \n",
       "top              FDG33          NaN          Low Fat              NaN   \n",
       "freq                10          NaN             5517              NaN   \n",
       "mean               NaN    12.857645              NaN         0.066132   \n",
       "std                NaN     4.643456              NaN         0.051598   \n",
       "min                NaN     4.555000              NaN         0.000000   \n",
       "25%                NaN     8.773750              NaN         0.026989   \n",
       "50%                NaN    12.600000              NaN         0.053931   \n",
       "75%                NaN    16.850000              NaN         0.094585   \n",
       "max                NaN    21.350000              NaN         0.328391   \n",
       "\n",
       "                    Item_Type     Item_MRP Outlet_Identifier  \\\n",
       "count                    8523  8523.000000              8523   \n",
       "unique                     15          NaN                10   \n",
       "top     Fruits and Vegetables          NaN            OUT027   \n",
       "freq                     1232          NaN               935   \n",
       "mean                      NaN   140.992782               NaN   \n",
       "std                       NaN    62.275067               NaN   \n",
       "min                       NaN    31.290000               NaN   \n",
       "25%                       NaN    93.826500               NaN   \n",
       "50%                       NaN   143.012800               NaN   \n",
       "75%                       NaN   185.643700               NaN   \n",
       "max                       NaN   266.888400               NaN   \n",
       "\n",
       "        Outlet_Establishment_Year Outlet_Size Outlet_Location_Type  \\\n",
       "count                 8523.000000        8523                 8523   \n",
       "unique                        NaN           3                    3   \n",
       "top                           NaN       Small               Tier 3   \n",
       "freq                          NaN        4798                 3350   \n",
       "mean                  1997.831867         NaN                  NaN   \n",
       "std                      8.371760         NaN                  NaN   \n",
       "min                   1985.000000         NaN                  NaN   \n",
       "25%                   1987.000000         NaN                  NaN   \n",
       "50%                   1999.000000         NaN                  NaN   \n",
       "75%                   2004.000000         NaN                  NaN   \n",
       "max                   2009.000000         NaN                  NaN   \n",
       "\n",
       "              Outlet_Type  Item_Outlet_Sales   Outlet_Age  \n",
       "count                8523        8523.000000  8523.000000  \n",
       "unique                  4                NaN          NaN  \n",
       "top     Supermarket Type1                NaN          NaN  \n",
       "freq                 5577                NaN          NaN  \n",
       "mean                  NaN        2181.288914    15.168133  \n",
       "std                   NaN        1706.499616     8.371760  \n",
       "min                   NaN          33.290000     4.000000  \n",
       "25%                   NaN         834.247400     9.000000  \n",
       "50%                   NaN        1794.331000    14.000000  \n",
       "75%                   NaN        3101.296400    26.000000  \n",
       "max                   NaN       13086.964800    28.000000  "
      ]
     },
     "execution_count": 11,
     "metadata": {},
     "output_type": "execute_result"
    }
   ],
   "source": [
    "df.describe(include = \"all\")"
   ]
  },
  {
   "cell_type": "code",
   "execution_count": 6,
   "metadata": {},
   "outputs": [
    {
     "data": {
      "text/html": [
       "<div>\n",
       "<style scoped>\n",
       "    .dataframe tbody tr th:only-of-type {\n",
       "        vertical-align: middle;\n",
       "    }\n",
       "\n",
       "    .dataframe tbody tr th {\n",
       "        vertical-align: top;\n",
       "    }\n",
       "\n",
       "    .dataframe thead th {\n",
       "        text-align: right;\n",
       "    }\n",
       "</style>\n",
       "<table border=\"1\" class=\"dataframe\">\n",
       "  <thead>\n",
       "    <tr style=\"text-align: right;\">\n",
       "      <th></th>\n",
       "      <th>Item_Identifier</th>\n",
       "      <th>Item_Weight</th>\n",
       "      <th>Item_Fat_Content</th>\n",
       "      <th>Item_Visibility</th>\n",
       "      <th>Item_Type</th>\n",
       "      <th>Item_MRP</th>\n",
       "      <th>Outlet_Identifier</th>\n",
       "      <th>Outlet_Establishment_Year</th>\n",
       "      <th>Outlet_Size</th>\n",
       "      <th>Outlet_Location_Type</th>\n",
       "      <th>Outlet_Type</th>\n",
       "      <th>Item_Outlet_Sales</th>\n",
       "      <th>Outlet_Age</th>\n",
       "    </tr>\n",
       "  </thead>\n",
       "  <tbody>\n",
       "    <tr>\n",
       "      <th>0</th>\n",
       "      <td>FDA15</td>\n",
       "      <td>9.30</td>\n",
       "      <td>Low Fat</td>\n",
       "      <td>0.016047</td>\n",
       "      <td>Dairy</td>\n",
       "      <td>249.8092</td>\n",
       "      <td>OUT049</td>\n",
       "      <td>1999</td>\n",
       "      <td>Medium</td>\n",
       "      <td>Tier 1</td>\n",
       "      <td>Supermarket Type1</td>\n",
       "      <td>3735.1380</td>\n",
       "      <td>14</td>\n",
       "    </tr>\n",
       "    <tr>\n",
       "      <th>1</th>\n",
       "      <td>DRC01</td>\n",
       "      <td>5.92</td>\n",
       "      <td>Regular</td>\n",
       "      <td>0.019278</td>\n",
       "      <td>Soft Drinks</td>\n",
       "      <td>48.2692</td>\n",
       "      <td>OUT018</td>\n",
       "      <td>2009</td>\n",
       "      <td>Medium</td>\n",
       "      <td>Tier 3</td>\n",
       "      <td>Supermarket Type2</td>\n",
       "      <td>443.4228</td>\n",
       "      <td>4</td>\n",
       "    </tr>\n",
       "  </tbody>\n",
       "</table>\n",
       "</div>"
      ],
      "text/plain": [
       "  Item_Identifier  Item_Weight Item_Fat_Content  Item_Visibility    Item_Type  \\\n",
       "0           FDA15         9.30          Low Fat         0.016047        Dairy   \n",
       "1           DRC01         5.92          Regular         0.019278  Soft Drinks   \n",
       "\n",
       "   Item_MRP Outlet_Identifier  Outlet_Establishment_Year Outlet_Size  \\\n",
       "0  249.8092            OUT049                       1999      Medium   \n",
       "1   48.2692            OUT018                       2009      Medium   \n",
       "\n",
       "  Outlet_Location_Type        Outlet_Type  Item_Outlet_Sales  Outlet_Age  \n",
       "0               Tier 1  Supermarket Type1          3735.1380          14  \n",
       "1               Tier 3  Supermarket Type2           443.4228           4  "
      ]
     },
     "execution_count": 6,
     "metadata": {},
     "output_type": "execute_result"
    }
   ],
   "source": [
    "df.head(2)"
   ]
  },
  {
   "cell_type": "code",
   "execution_count": 10,
   "metadata": {
    "collapsed": true
   },
   "outputs": [
    {
     "data": {
      "text/plain": [
       "Fruits and Vegetables    1232\n",
       "Snack Foods              1200\n",
       "Household                 910\n",
       "Frozen Foods              856\n",
       "Dairy                     682\n",
       "Canned                    649\n",
       "Baking Goods              648\n",
       "Health and Hygiene        520\n",
       "Meat                      489\n",
       "Soft Drinks               445\n",
       "Breads                    251\n",
       "Hard Drinks               214\n",
       "Others                    169\n",
       "Starchy Foods             148\n",
       "Breakfast                 110\n",
       "Name: Item_Type, dtype: int64"
      ]
     },
     "execution_count": 10,
     "metadata": {},
     "output_type": "execute_result"
    }
   ],
   "source": [
    "df[\"Item_Type\"].value_counts()"
   ]
  },
  {
   "cell_type": "code",
   "execution_count": 12,
   "metadata": {
    "collapsed": true
   },
   "outputs": [
    {
     "data": {
      "text/plain": [
       "Small     4798\n",
       "Medium    2793\n",
       "High       932\n",
       "Name: Outlet_Size, dtype: int64"
      ]
     },
     "execution_count": 12,
     "metadata": {},
     "output_type": "execute_result"
    }
   ],
   "source": [
    "df[\"Outlet_Size\"].value_counts()"
   ]
  },
  {
   "cell_type": "code",
   "execution_count": 14,
   "metadata": {
    "collapsed": true
   },
   "outputs": [
    {
     "data": {
      "text/plain": [
       "Supermarket Type1    5577\n",
       "Grocery Store        1083\n",
       "Supermarket Type3     935\n",
       "Supermarket Type2     928\n",
       "Name: Outlet_Type, dtype: int64"
      ]
     },
     "execution_count": 14,
     "metadata": {},
     "output_type": "execute_result"
    }
   ],
   "source": [
    "df[\"Outlet_Type\"].value_counts()"
   ]
  },
  {
   "cell_type": "code",
   "execution_count": 15,
   "metadata": {
    "collapsed": true
   },
   "outputs": [
    {
     "data": {
      "text/plain": [
       "Tier 3    3350\n",
       "Tier 2    2785\n",
       "Tier 1    2388\n",
       "Name: Outlet_Location_Type, dtype: int64"
      ]
     },
     "execution_count": 15,
     "metadata": {},
     "output_type": "execute_result"
    }
   ],
   "source": [
    "df[\"Outlet_Location_Type\"].value_counts()"
   ]
  },
  {
   "cell_type": "code",
   "execution_count": 28,
   "metadata": {},
   "outputs": [],
   "source": [
    "df_Outlet_Size = pd.get_dummies(df[\"Outlet_Size\"], drop_first = True)\n",
    "df_Outlet_Type = pd.get_dummies(df[\"Outlet_Type\"], drop_first = True)\n",
    "df_Outlet_Location_Type = pd.get_dummies(df[\"Outlet_Location_Type\"], drop_first = True)\n",
    "df_Item_Fat_Content = pd.get_dummies(df[\"Item_Fat_Content\"], drop_first = True)"
   ]
  },
  {
   "cell_type": "code",
   "execution_count": 23,
   "metadata": {},
   "outputs": [
    {
     "data": {
      "text/html": [
       "<div>\n",
       "<style scoped>\n",
       "    .dataframe tbody tr th:only-of-type {\n",
       "        vertical-align: middle;\n",
       "    }\n",
       "\n",
       "    .dataframe tbody tr th {\n",
       "        vertical-align: top;\n",
       "    }\n",
       "\n",
       "    .dataframe thead th {\n",
       "        text-align: right;\n",
       "    }\n",
       "</style>\n",
       "<table border=\"1\" class=\"dataframe\">\n",
       "  <thead>\n",
       "    <tr style=\"text-align: right;\">\n",
       "      <th></th>\n",
       "      <th>Supermarket Type1</th>\n",
       "      <th>Supermarket Type2</th>\n",
       "      <th>Supermarket Type3</th>\n",
       "    </tr>\n",
       "  </thead>\n",
       "  <tbody>\n",
       "    <tr>\n",
       "      <th>0</th>\n",
       "      <td>1</td>\n",
       "      <td>0</td>\n",
       "      <td>0</td>\n",
       "    </tr>\n",
       "    <tr>\n",
       "      <th>1</th>\n",
       "      <td>0</td>\n",
       "      <td>1</td>\n",
       "      <td>0</td>\n",
       "    </tr>\n",
       "    <tr>\n",
       "      <th>2</th>\n",
       "      <td>1</td>\n",
       "      <td>0</td>\n",
       "      <td>0</td>\n",
       "    </tr>\n",
       "    <tr>\n",
       "      <th>3</th>\n",
       "      <td>0</td>\n",
       "      <td>0</td>\n",
       "      <td>0</td>\n",
       "    </tr>\n",
       "    <tr>\n",
       "      <th>4</th>\n",
       "      <td>1</td>\n",
       "      <td>0</td>\n",
       "      <td>0</td>\n",
       "    </tr>\n",
       "  </tbody>\n",
       "</table>\n",
       "</div>"
      ],
      "text/plain": [
       "   Supermarket Type1  Supermarket Type2  Supermarket Type3\n",
       "0                  1                  0                  0\n",
       "1                  0                  1                  0\n",
       "2                  1                  0                  0\n",
       "3                  0                  0                  0\n",
       "4                  1                  0                  0"
      ]
     },
     "execution_count": 23,
     "metadata": {},
     "output_type": "execute_result"
    }
   ],
   "source": [
    "df_Outlet_Type.head()"
   ]
  },
  {
   "cell_type": "code",
   "execution_count": 36,
   "metadata": {},
   "outputs": [],
   "source": [
    "df = df.join(df_Outlet_Location_Type)"
   ]
  },
  {
   "cell_type": "code",
   "execution_count": 37,
   "metadata": {},
   "outputs": [],
   "source": [
    "df = df.join(df_Item_Fat_Content)"
   ]
  },
  {
   "cell_type": "code",
   "execution_count": 38,
   "metadata": {},
   "outputs": [
    {
     "data": {
      "text/html": [
       "<div>\n",
       "<style scoped>\n",
       "    .dataframe tbody tr th:only-of-type {\n",
       "        vertical-align: middle;\n",
       "    }\n",
       "\n",
       "    .dataframe tbody tr th {\n",
       "        vertical-align: top;\n",
       "    }\n",
       "\n",
       "    .dataframe thead th {\n",
       "        text-align: right;\n",
       "    }\n",
       "</style>\n",
       "<table border=\"1\" class=\"dataframe\">\n",
       "  <thead>\n",
       "    <tr style=\"text-align: right;\">\n",
       "      <th></th>\n",
       "      <th>Item_Identifier</th>\n",
       "      <th>Item_Weight</th>\n",
       "      <th>Item_Fat_Content</th>\n",
       "      <th>Item_Visibility</th>\n",
       "      <th>Item_Type</th>\n",
       "      <th>Item_MRP</th>\n",
       "      <th>Outlet_Identifier</th>\n",
       "      <th>Outlet_Establishment_Year</th>\n",
       "      <th>Outlet_Size</th>\n",
       "      <th>Outlet_Location_Type</th>\n",
       "      <th>...</th>\n",
       "      <th>Item_Outlet_Sales</th>\n",
       "      <th>Outlet_Age</th>\n",
       "      <th>Medium</th>\n",
       "      <th>Small</th>\n",
       "      <th>Supermarket Type1</th>\n",
       "      <th>Supermarket Type2</th>\n",
       "      <th>Supermarket Type3</th>\n",
       "      <th>Tier 2</th>\n",
       "      <th>Tier 3</th>\n",
       "      <th>Regular</th>\n",
       "    </tr>\n",
       "  </thead>\n",
       "  <tbody>\n",
       "    <tr>\n",
       "      <th>0</th>\n",
       "      <td>FDA15</td>\n",
       "      <td>9.30</td>\n",
       "      <td>Low Fat</td>\n",
       "      <td>0.016047</td>\n",
       "      <td>Dairy</td>\n",
       "      <td>249.8092</td>\n",
       "      <td>OUT049</td>\n",
       "      <td>1999</td>\n",
       "      <td>Medium</td>\n",
       "      <td>Tier 1</td>\n",
       "      <td>...</td>\n",
       "      <td>3735.1380</td>\n",
       "      <td>14</td>\n",
       "      <td>1</td>\n",
       "      <td>0</td>\n",
       "      <td>1</td>\n",
       "      <td>0</td>\n",
       "      <td>0</td>\n",
       "      <td>0</td>\n",
       "      <td>0</td>\n",
       "      <td>0</td>\n",
       "    </tr>\n",
       "    <tr>\n",
       "      <th>1</th>\n",
       "      <td>DRC01</td>\n",
       "      <td>5.92</td>\n",
       "      <td>Regular</td>\n",
       "      <td>0.019278</td>\n",
       "      <td>Soft Drinks</td>\n",
       "      <td>48.2692</td>\n",
       "      <td>OUT018</td>\n",
       "      <td>2009</td>\n",
       "      <td>Medium</td>\n",
       "      <td>Tier 3</td>\n",
       "      <td>...</td>\n",
       "      <td>443.4228</td>\n",
       "      <td>4</td>\n",
       "      <td>1</td>\n",
       "      <td>0</td>\n",
       "      <td>0</td>\n",
       "      <td>1</td>\n",
       "      <td>0</td>\n",
       "      <td>0</td>\n",
       "      <td>1</td>\n",
       "      <td>1</td>\n",
       "    </tr>\n",
       "  </tbody>\n",
       "</table>\n",
       "<p>2 rows × 21 columns</p>\n",
       "</div>"
      ],
      "text/plain": [
       "  Item_Identifier  Item_Weight Item_Fat_Content  Item_Visibility    Item_Type  \\\n",
       "0           FDA15         9.30          Low Fat         0.016047        Dairy   \n",
       "1           DRC01         5.92          Regular         0.019278  Soft Drinks   \n",
       "\n",
       "   Item_MRP Outlet_Identifier  Outlet_Establishment_Year Outlet_Size  \\\n",
       "0  249.8092            OUT049                       1999      Medium   \n",
       "1   48.2692            OUT018                       2009      Medium   \n",
       "\n",
       "  Outlet_Location_Type   ...    Item_Outlet_Sales  Outlet_Age  Medium  Small  \\\n",
       "0               Tier 1   ...            3735.1380          14       1      0   \n",
       "1               Tier 3   ...             443.4228           4       1      0   \n",
       "\n",
       "   Supermarket Type1  Supermarket Type2  Supermarket Type3  Tier 2  Tier 3  \\\n",
       "0                  1                  0                  0       0       0   \n",
       "1                  0                  1                  0       0       1   \n",
       "\n",
       "   Regular  \n",
       "0        0  \n",
       "1        1  \n",
       "\n",
       "[2 rows x 21 columns]"
      ]
     },
     "execution_count": 38,
     "metadata": {},
     "output_type": "execute_result"
    }
   ],
   "source": [
    "df.head(2)"
   ]
  },
  {
   "cell_type": "code",
   "execution_count": 39,
   "metadata": {
    "collapsed": true
   },
   "outputs": [
    {
     "data": {
      "text/plain": [
       "Index(['Item_Identifier', 'Item_Weight', 'Item_Fat_Content', 'Item_Visibility',\n",
       "       'Item_Type', 'Item_MRP', 'Outlet_Identifier',\n",
       "       'Outlet_Establishment_Year', 'Outlet_Size', 'Outlet_Location_Type',\n",
       "       'Outlet_Type', 'Item_Outlet_Sales', 'Outlet_Age', 'Medium', 'Small',\n",
       "       'Supermarket Type1', 'Supermarket Type2', 'Supermarket Type3', 'Tier 2',\n",
       "       'Tier 3', 'Regular'],\n",
       "      dtype='object')"
      ]
     },
     "execution_count": 39,
     "metadata": {},
     "output_type": "execute_result"
    }
   ],
   "source": [
    "df.columns"
   ]
  },
  {
   "cell_type": "code",
   "execution_count": 40,
   "metadata": {},
   "outputs": [],
   "source": [
    "col = ['Item_Identifier', 'Item_Weight', 'Item_Fat_Content', 'Item_Visibility',\n",
    "       'Item_Type', 'Item_MRP', 'Outlet_Identifier',\n",
    "       'Outlet_Establishment_Year', 'Outlet_Size', 'Outlet_Location_Type',\n",
    "       'Outlet_Type', 'Item_Outlet_Sales', 'Outlet_Age', 'Size Medium', 'Size Small',\n",
    "       'Supermarket Type1', 'Supermarket Type2', 'Supermarket Type3', 'City Tier 2',\n",
    "       'City Tier 3', 'Fat Regular']"
   ]
  },
  {
   "cell_type": "code",
   "execution_count": 41,
   "metadata": {},
   "outputs": [],
   "source": [
    "df.columns = col"
   ]
  },
  {
   "cell_type": "code",
   "execution_count": 42,
   "metadata": {},
   "outputs": [
    {
     "data": {
      "text/html": [
       "<div>\n",
       "<style scoped>\n",
       "    .dataframe tbody tr th:only-of-type {\n",
       "        vertical-align: middle;\n",
       "    }\n",
       "\n",
       "    .dataframe tbody tr th {\n",
       "        vertical-align: top;\n",
       "    }\n",
       "\n",
       "    .dataframe thead th {\n",
       "        text-align: right;\n",
       "    }\n",
       "</style>\n",
       "<table border=\"1\" class=\"dataframe\">\n",
       "  <thead>\n",
       "    <tr style=\"text-align: right;\">\n",
       "      <th></th>\n",
       "      <th>Item_Identifier</th>\n",
       "      <th>Item_Weight</th>\n",
       "      <th>Item_Fat_Content</th>\n",
       "      <th>Item_Visibility</th>\n",
       "      <th>Item_Type</th>\n",
       "      <th>Item_MRP</th>\n",
       "      <th>Outlet_Identifier</th>\n",
       "      <th>Outlet_Establishment_Year</th>\n",
       "      <th>Outlet_Size</th>\n",
       "      <th>Outlet_Location_Type</th>\n",
       "      <th>...</th>\n",
       "      <th>Item_Outlet_Sales</th>\n",
       "      <th>Outlet_Age</th>\n",
       "      <th>Size Medium</th>\n",
       "      <th>Size Small</th>\n",
       "      <th>Supermarket Type1</th>\n",
       "      <th>Supermarket Type2</th>\n",
       "      <th>Supermarket Type3</th>\n",
       "      <th>City Tier 2</th>\n",
       "      <th>City Tier 3</th>\n",
       "      <th>Fat Regular</th>\n",
       "    </tr>\n",
       "  </thead>\n",
       "  <tbody>\n",
       "    <tr>\n",
       "      <th>0</th>\n",
       "      <td>FDA15</td>\n",
       "      <td>9.30</td>\n",
       "      <td>Low Fat</td>\n",
       "      <td>0.016047</td>\n",
       "      <td>Dairy</td>\n",
       "      <td>249.8092</td>\n",
       "      <td>OUT049</td>\n",
       "      <td>1999</td>\n",
       "      <td>Medium</td>\n",
       "      <td>Tier 1</td>\n",
       "      <td>...</td>\n",
       "      <td>3735.1380</td>\n",
       "      <td>14</td>\n",
       "      <td>1</td>\n",
       "      <td>0</td>\n",
       "      <td>1</td>\n",
       "      <td>0</td>\n",
       "      <td>0</td>\n",
       "      <td>0</td>\n",
       "      <td>0</td>\n",
       "      <td>0</td>\n",
       "    </tr>\n",
       "    <tr>\n",
       "      <th>1</th>\n",
       "      <td>DRC01</td>\n",
       "      <td>5.92</td>\n",
       "      <td>Regular</td>\n",
       "      <td>0.019278</td>\n",
       "      <td>Soft Drinks</td>\n",
       "      <td>48.2692</td>\n",
       "      <td>OUT018</td>\n",
       "      <td>2009</td>\n",
       "      <td>Medium</td>\n",
       "      <td>Tier 3</td>\n",
       "      <td>...</td>\n",
       "      <td>443.4228</td>\n",
       "      <td>4</td>\n",
       "      <td>1</td>\n",
       "      <td>0</td>\n",
       "      <td>0</td>\n",
       "      <td>1</td>\n",
       "      <td>0</td>\n",
       "      <td>0</td>\n",
       "      <td>1</td>\n",
       "      <td>1</td>\n",
       "    </tr>\n",
       "  </tbody>\n",
       "</table>\n",
       "<p>2 rows × 21 columns</p>\n",
       "</div>"
      ],
      "text/plain": [
       "  Item_Identifier  Item_Weight Item_Fat_Content  Item_Visibility    Item_Type  \\\n",
       "0           FDA15         9.30          Low Fat         0.016047        Dairy   \n",
       "1           DRC01         5.92          Regular         0.019278  Soft Drinks   \n",
       "\n",
       "   Item_MRP Outlet_Identifier  Outlet_Establishment_Year Outlet_Size  \\\n",
       "0  249.8092            OUT049                       1999      Medium   \n",
       "1   48.2692            OUT018                       2009      Medium   \n",
       "\n",
       "  Outlet_Location_Type     ...      Item_Outlet_Sales  Outlet_Age  \\\n",
       "0               Tier 1     ...              3735.1380          14   \n",
       "1               Tier 3     ...               443.4228           4   \n",
       "\n",
       "   Size Medium  Size Small  Supermarket Type1  Supermarket Type2  \\\n",
       "0            1           0                  1                  0   \n",
       "1            1           0                  0                  1   \n",
       "\n",
       "   Supermarket Type3  City Tier 2  City Tier 3  Fat Regular  \n",
       "0                  0            0            0            0  \n",
       "1                  0            0            1            1  \n",
       "\n",
       "[2 rows x 21 columns]"
      ]
     },
     "execution_count": 42,
     "metadata": {},
     "output_type": "execute_result"
    }
   ],
   "source": [
    "df.head(2)"
   ]
  },
  {
   "cell_type": "code",
   "execution_count": 45,
   "metadata": {},
   "outputs": [],
   "source": [
    "df_f = df.drop([\"Item_Fat_Content\", \"Outlet_Size\", \"Outlet_Establishment_Year\", \"Outlet_Location_Type\", \"Outlet_Type\", \"Outlet_Identifier\"], axis = 1)"
   ]
  },
  {
   "cell_type": "code",
   "execution_count": 51,
   "metadata": {},
   "outputs": [],
   "source": [
    "df_pca = df_f.iloc[:,7:]"
   ]
  },
  {
   "cell_type": "code",
   "execution_count": 52,
   "metadata": {},
   "outputs": [],
   "source": [
    "scale = preprocessing.StandardScaler()"
   ]
  },
  {
   "cell_type": "code",
   "execution_count": 66,
   "metadata": {},
   "outputs": [],
   "source": [
    "xyz = scale.fit_transform(df_pca)"
   ]
  },
  {
   "cell_type": "code",
   "execution_count": 71,
   "metadata": {},
   "outputs": [],
   "source": [
    "df_pca = pd.DataFrame(xyz)"
   ]
  },
  {
   "cell_type": "code",
   "execution_count": 77,
   "metadata": {},
   "outputs": [],
   "source": [
    "pca = PCA(.94)"
   ]
  },
  {
   "cell_type": "code",
   "execution_count": 78,
   "metadata": {},
   "outputs": [],
   "source": [
    "principal = pca.fit_transform(df_pca)"
   ]
  },
  {
   "cell_type": "code",
   "execution_count": 79,
   "metadata": {},
   "outputs": [],
   "source": [
    "df_principal = pd.DataFrame(data = principal)"
   ]
  },
  {
   "cell_type": "code",
   "execution_count": 83,
   "metadata": {},
   "outputs": [
    {
     "data": {
      "text/html": [
       "<div>\n",
       "<style scoped>\n",
       "    .dataframe tbody tr th:only-of-type {\n",
       "        vertical-align: middle;\n",
       "    }\n",
       "\n",
       "    .dataframe tbody tr th {\n",
       "        vertical-align: top;\n",
       "    }\n",
       "\n",
       "    .dataframe thead th {\n",
       "        text-align: right;\n",
       "    }\n",
       "</style>\n",
       "<table border=\"1\" class=\"dataframe\">\n",
       "  <thead>\n",
       "    <tr style=\"text-align: right;\">\n",
       "      <th></th>\n",
       "      <th>PC1</th>\n",
       "      <th>PC2</th>\n",
       "      <th>PC3</th>\n",
       "      <th>PC4</th>\n",
       "      <th>PC5</th>\n",
       "      <th>PC6</th>\n",
       "    </tr>\n",
       "  </thead>\n",
       "  <tbody>\n",
       "    <tr>\n",
       "      <th>0</th>\n",
       "      <td>0.530373</td>\n",
       "      <td>-0.007091</td>\n",
       "      <td>-0.685088</td>\n",
       "      <td>2.061783</td>\n",
       "      <td>0.058171</td>\n",
       "      <td>0.805714</td>\n",
       "    </tr>\n",
       "    <tr>\n",
       "      <th>1</th>\n",
       "      <td>3.140134</td>\n",
       "      <td>2.289587</td>\n",
       "      <td>1.315939</td>\n",
       "      <td>-0.305988</td>\n",
       "      <td>-0.670445</td>\n",
       "      <td>-0.101508</td>\n",
       "    </tr>\n",
       "  </tbody>\n",
       "</table>\n",
       "</div>"
      ],
      "text/plain": [
       "        PC1       PC2       PC3       PC4       PC5       PC6\n",
       "0  0.530373 -0.007091 -0.685088  2.061783  0.058171  0.805714\n",
       "1  3.140134  2.289587  1.315939 -0.305988 -0.670445 -0.101508"
      ]
     },
     "execution_count": 83,
     "metadata": {},
     "output_type": "execute_result"
    }
   ],
   "source": [
    "df_principal.head(2)"
   ]
  },
  {
   "cell_type": "code",
   "execution_count": 76,
   "metadata": {},
   "outputs": [
    {
     "data": {
      "text/html": [
       "<div>\n",
       "<style scoped>\n",
       "    .dataframe tbody tr th:only-of-type {\n",
       "        vertical-align: middle;\n",
       "    }\n",
       "\n",
       "    .dataframe tbody tr th {\n",
       "        vertical-align: top;\n",
       "    }\n",
       "\n",
       "    .dataframe thead th {\n",
       "        text-align: right;\n",
       "    }\n",
       "</style>\n",
       "<table border=\"1\" class=\"dataframe\">\n",
       "  <thead>\n",
       "    <tr style=\"text-align: right;\">\n",
       "      <th></th>\n",
       "      <th>0</th>\n",
       "      <th>1</th>\n",
       "      <th>2</th>\n",
       "      <th>3</th>\n",
       "      <th>4</th>\n",
       "      <th>5</th>\n",
       "      <th>6</th>\n",
       "      <th>7</th>\n",
       "    </tr>\n",
       "  </thead>\n",
       "  <tbody>\n",
       "    <tr>\n",
       "      <th>0</th>\n",
       "      <td>1.432326</td>\n",
       "      <td>-1.134925</td>\n",
       "      <td>0.726802</td>\n",
       "      <td>-0.349551</td>\n",
       "      <td>-0.351028</td>\n",
       "      <td>-0.696678</td>\n",
       "      <td>-0.804732</td>\n",
       "      <td>-0.738147</td>\n",
       "    </tr>\n",
       "    <tr>\n",
       "      <th>1</th>\n",
       "      <td>1.432326</td>\n",
       "      <td>-1.134925</td>\n",
       "      <td>-1.375891</td>\n",
       "      <td>2.860816</td>\n",
       "      <td>-0.351028</td>\n",
       "      <td>-0.696678</td>\n",
       "      <td>1.242650</td>\n",
       "      <td>1.354743</td>\n",
       "    </tr>\n",
       "  </tbody>\n",
       "</table>\n",
       "</div>"
      ],
      "text/plain": [
       "          0         1         2         3         4         5         6  \\\n",
       "0  1.432326 -1.134925  0.726802 -0.349551 -0.351028 -0.696678 -0.804732   \n",
       "1  1.432326 -1.134925 -1.375891  2.860816 -0.351028 -0.696678  1.242650   \n",
       "\n",
       "          7  \n",
       "0 -0.738147  \n",
       "1  1.354743  "
      ]
     },
     "execution_count": 76,
     "metadata": {},
     "output_type": "execute_result"
    }
   ],
   "source": [
    "df_pca.head(2)"
   ]
  },
  {
   "cell_type": "code",
   "execution_count": 82,
   "metadata": {},
   "outputs": [],
   "source": [
    "df_principal.columns = [\"PC1\", \"PC2\", \"PC3\", \"PC4\", \"PC5\", \"PC6\"]"
   ]
  },
  {
   "cell_type": "code",
   "execution_count": 84,
   "metadata": {},
   "outputs": [
    {
     "data": {
      "text/plain": [
       "(8523, 6)"
      ]
     },
     "execution_count": 84,
     "metadata": {},
     "output_type": "execute_result"
    }
   ],
   "source": [
    "df_principal.shape"
   ]
  },
  {
   "cell_type": "code",
   "execution_count": 86,
   "metadata": {},
   "outputs": [],
   "source": [
    "df_f2 = df_f.join(df_principal)"
   ]
  },
  {
   "cell_type": "code",
   "execution_count": 87,
   "metadata": {},
   "outputs": [
    {
     "data": {
      "text/plain": [
       "Index(['Item_Identifier', 'Item_Weight', 'Item_Visibility', 'Item_Type',\n",
       "       'Item_MRP', 'Item_Outlet_Sales', 'Outlet_Age', 'Size Medium',\n",
       "       'Size Small', 'Supermarket Type1', 'Supermarket Type2',\n",
       "       'Supermarket Type3', 'City Tier 2', 'City Tier 3', 'Fat Regular', 'PC1',\n",
       "       'PC2', 'PC3', 'PC4', 'PC5', 'PC6'],\n",
       "      dtype='object')"
      ]
     },
     "execution_count": 87,
     "metadata": {},
     "output_type": "execute_result"
    }
   ],
   "source": [
    "df_f2.columns"
   ]
  },
  {
   "cell_type": "code",
   "execution_count": 89,
   "metadata": {},
   "outputs": [],
   "source": [
    "df_f2 = df_f2.drop([\"Size Medium\",'Size Small', 'Supermarket Type1', 'Supermarket Type2','Supermarket Type3', 'City Tier 2', 'City Tier 3', 'Fat Regular'], axis = 1)"
   ]
  },
  {
   "cell_type": "code",
   "execution_count": 90,
   "metadata": {
    "collapsed": true
   },
   "outputs": [
    {
     "data": {
      "text/html": [
       "<div>\n",
       "<style scoped>\n",
       "    .dataframe tbody tr th:only-of-type {\n",
       "        vertical-align: middle;\n",
       "    }\n",
       "\n",
       "    .dataframe tbody tr th {\n",
       "        vertical-align: top;\n",
       "    }\n",
       "\n",
       "    .dataframe thead th {\n",
       "        text-align: right;\n",
       "    }\n",
       "</style>\n",
       "<table border=\"1\" class=\"dataframe\">\n",
       "  <thead>\n",
       "    <tr style=\"text-align: right;\">\n",
       "      <th></th>\n",
       "      <th>Item_Weight</th>\n",
       "      <th>Item_Visibility</th>\n",
       "      <th>Item_MRP</th>\n",
       "      <th>Item_Outlet_Sales</th>\n",
       "      <th>Outlet_Age</th>\n",
       "      <th>PC1</th>\n",
       "      <th>PC2</th>\n",
       "      <th>PC3</th>\n",
       "      <th>PC4</th>\n",
       "      <th>PC5</th>\n",
       "      <th>PC6</th>\n",
       "    </tr>\n",
       "  </thead>\n",
       "  <tbody>\n",
       "    <tr>\n",
       "      <th>Item_Weight</th>\n",
       "      <td>1.000000</td>\n",
       "      <td>-0.014048</td>\n",
       "      <td>0.027141</td>\n",
       "      <td>0.014123</td>\n",
       "      <td>0.011588</td>\n",
       "      <td>1.131640e-02</td>\n",
       "      <td>9.890959e-04</td>\n",
       "      <td>-2.316301e-02</td>\n",
       "      <td>5.784602e-03</td>\n",
       "      <td>1.488207e-02</td>\n",
       "      <td>-1.588498e-03</td>\n",
       "    </tr>\n",
       "    <tr>\n",
       "      <th>Item_Visibility</th>\n",
       "      <td>-0.014048</td>\n",
       "      <td>1.000000</td>\n",
       "      <td>-0.001315</td>\n",
       "      <td>-0.128625</td>\n",
       "      <td>0.074834</td>\n",
       "      <td>-9.170641e-03</td>\n",
       "      <td>1.137085e-02</td>\n",
       "      <td>4.311526e-02</td>\n",
       "      <td>-1.865457e-01</td>\n",
       "      <td>1.047670e-01</td>\n",
       "      <td>1.295220e-01</td>\n",
       "    </tr>\n",
       "    <tr>\n",
       "      <th>Item_MRP</th>\n",
       "      <td>0.027141</td>\n",
       "      <td>-0.001315</td>\n",
       "      <td>1.000000</td>\n",
       "      <td>0.567574</td>\n",
       "      <td>-0.005020</td>\n",
       "      <td>-3.531055e-03</td>\n",
       "      <td>7.109241e-03</td>\n",
       "      <td>5.987925e-03</td>\n",
       "      <td>7.090940e-05</td>\n",
       "      <td>1.998854e-03</td>\n",
       "      <td>-3.700209e-03</td>\n",
       "    </tr>\n",
       "    <tr>\n",
       "      <th>Item_Outlet_Sales</th>\n",
       "      <td>0.014123</td>\n",
       "      <td>-0.128625</td>\n",
       "      <td>0.567574</td>\n",
       "      <td>1.000000</td>\n",
       "      <td>0.049135</td>\n",
       "      <td>1.092051e-01</td>\n",
       "      <td>-2.324932e-01</td>\n",
       "      <td>2.636267e-02</td>\n",
       "      <td>2.377524e-01</td>\n",
       "      <td>-2.090365e-01</td>\n",
       "      <td>-1.698575e-01</td>\n",
       "    </tr>\n",
       "    <tr>\n",
       "      <th>Outlet_Age</th>\n",
       "      <td>0.011588</td>\n",
       "      <td>0.074834</td>\n",
       "      <td>-0.005020</td>\n",
       "      <td>0.049135</td>\n",
       "      <td>1.000000</td>\n",
       "      <td>3.076411e-01</td>\n",
       "      <td>-6.699254e-01</td>\n",
       "      <td>2.417964e-03</td>\n",
       "      <td>-5.338517e-02</td>\n",
       "      <td>5.275117e-01</td>\n",
       "      <td>6.165684e-02</td>\n",
       "    </tr>\n",
       "    <tr>\n",
       "      <th>PC1</th>\n",
       "      <td>0.011316</td>\n",
       "      <td>-0.009171</td>\n",
       "      <td>-0.003531</td>\n",
       "      <td>0.109205</td>\n",
       "      <td>0.307641</td>\n",
       "      <td>1.000000e+00</td>\n",
       "      <td>-3.934776e-16</td>\n",
       "      <td>1.844970e-16</td>\n",
       "      <td>-2.530114e-15</td>\n",
       "      <td>2.155698e-15</td>\n",
       "      <td>-1.168105e-15</td>\n",
       "    </tr>\n",
       "    <tr>\n",
       "      <th>PC2</th>\n",
       "      <td>0.000989</td>\n",
       "      <td>0.011371</td>\n",
       "      <td>0.007109</td>\n",
       "      <td>-0.232493</td>\n",
       "      <td>-0.669925</td>\n",
       "      <td>-3.934776e-16</td>\n",
       "      <td>1.000000e+00</td>\n",
       "      <td>1.091095e-16</td>\n",
       "      <td>3.093700e-16</td>\n",
       "      <td>5.948543e-16</td>\n",
       "      <td>2.281118e-16</td>\n",
       "    </tr>\n",
       "    <tr>\n",
       "      <th>PC3</th>\n",
       "      <td>-0.023163</td>\n",
       "      <td>0.043115</td>\n",
       "      <td>0.005988</td>\n",
       "      <td>0.026363</td>\n",
       "      <td>0.002418</td>\n",
       "      <td>1.844970e-16</td>\n",
       "      <td>1.091095e-16</td>\n",
       "      <td>1.000000e+00</td>\n",
       "      <td>-7.271552e-17</td>\n",
       "      <td>-1.213681e-16</td>\n",
       "      <td>-5.482509e-16</td>\n",
       "    </tr>\n",
       "    <tr>\n",
       "      <th>PC4</th>\n",
       "      <td>0.005785</td>\n",
       "      <td>-0.186546</td>\n",
       "      <td>0.000071</td>\n",
       "      <td>0.237752</td>\n",
       "      <td>-0.053385</td>\n",
       "      <td>-2.530114e-15</td>\n",
       "      <td>3.093700e-16</td>\n",
       "      <td>-7.271552e-17</td>\n",
       "      <td>1.000000e+00</td>\n",
       "      <td>1.212340e-15</td>\n",
       "      <td>-6.093394e-17</td>\n",
       "    </tr>\n",
       "    <tr>\n",
       "      <th>PC5</th>\n",
       "      <td>0.014882</td>\n",
       "      <td>0.104767</td>\n",
       "      <td>0.001999</td>\n",
       "      <td>-0.209037</td>\n",
       "      <td>0.527512</td>\n",
       "      <td>2.155698e-15</td>\n",
       "      <td>5.948543e-16</td>\n",
       "      <td>-1.213681e-16</td>\n",
       "      <td>1.212340e-15</td>\n",
       "      <td>1.000000e+00</td>\n",
       "      <td>1.141894e-15</td>\n",
       "    </tr>\n",
       "    <tr>\n",
       "      <th>PC6</th>\n",
       "      <td>-0.001588</td>\n",
       "      <td>0.129522</td>\n",
       "      <td>-0.003700</td>\n",
       "      <td>-0.169858</td>\n",
       "      <td>0.061657</td>\n",
       "      <td>-1.168105e-15</td>\n",
       "      <td>2.281118e-16</td>\n",
       "      <td>-5.482509e-16</td>\n",
       "      <td>-6.093394e-17</td>\n",
       "      <td>1.141894e-15</td>\n",
       "      <td>1.000000e+00</td>\n",
       "    </tr>\n",
       "  </tbody>\n",
       "</table>\n",
       "</div>"
      ],
      "text/plain": [
       "                   Item_Weight  Item_Visibility  Item_MRP  Item_Outlet_Sales  \\\n",
       "Item_Weight           1.000000        -0.014048  0.027141           0.014123   \n",
       "Item_Visibility      -0.014048         1.000000 -0.001315          -0.128625   \n",
       "Item_MRP              0.027141        -0.001315  1.000000           0.567574   \n",
       "Item_Outlet_Sales     0.014123        -0.128625  0.567574           1.000000   \n",
       "Outlet_Age            0.011588         0.074834 -0.005020           0.049135   \n",
       "PC1                   0.011316        -0.009171 -0.003531           0.109205   \n",
       "PC2                   0.000989         0.011371  0.007109          -0.232493   \n",
       "PC3                  -0.023163         0.043115  0.005988           0.026363   \n",
       "PC4                   0.005785        -0.186546  0.000071           0.237752   \n",
       "PC5                   0.014882         0.104767  0.001999          -0.209037   \n",
       "PC6                  -0.001588         0.129522 -0.003700          -0.169858   \n",
       "\n",
       "                   Outlet_Age           PC1           PC2           PC3  \\\n",
       "Item_Weight          0.011588  1.131640e-02  9.890959e-04 -2.316301e-02   \n",
       "Item_Visibility      0.074834 -9.170641e-03  1.137085e-02  4.311526e-02   \n",
       "Item_MRP            -0.005020 -3.531055e-03  7.109241e-03  5.987925e-03   \n",
       "Item_Outlet_Sales    0.049135  1.092051e-01 -2.324932e-01  2.636267e-02   \n",
       "Outlet_Age           1.000000  3.076411e-01 -6.699254e-01  2.417964e-03   \n",
       "PC1                  0.307641  1.000000e+00 -3.934776e-16  1.844970e-16   \n",
       "PC2                 -0.669925 -3.934776e-16  1.000000e+00  1.091095e-16   \n",
       "PC3                  0.002418  1.844970e-16  1.091095e-16  1.000000e+00   \n",
       "PC4                 -0.053385 -2.530114e-15  3.093700e-16 -7.271552e-17   \n",
       "PC5                  0.527512  2.155698e-15  5.948543e-16 -1.213681e-16   \n",
       "PC6                  0.061657 -1.168105e-15  2.281118e-16 -5.482509e-16   \n",
       "\n",
       "                            PC4           PC5           PC6  \n",
       "Item_Weight        5.784602e-03  1.488207e-02 -1.588498e-03  \n",
       "Item_Visibility   -1.865457e-01  1.047670e-01  1.295220e-01  \n",
       "Item_MRP           7.090940e-05  1.998854e-03 -3.700209e-03  \n",
       "Item_Outlet_Sales  2.377524e-01 -2.090365e-01 -1.698575e-01  \n",
       "Outlet_Age        -5.338517e-02  5.275117e-01  6.165684e-02  \n",
       "PC1               -2.530114e-15  2.155698e-15 -1.168105e-15  \n",
       "PC2                3.093700e-16  5.948543e-16  2.281118e-16  \n",
       "PC3               -7.271552e-17 -1.213681e-16 -5.482509e-16  \n",
       "PC4                1.000000e+00  1.212340e-15 -6.093394e-17  \n",
       "PC5                1.212340e-15  1.000000e+00  1.141894e-15  \n",
       "PC6               -6.093394e-17  1.141894e-15  1.000000e+00  "
      ]
     },
     "execution_count": 90,
     "metadata": {},
     "output_type": "execute_result"
    }
   ],
   "source": [
    "df_f2.corr()"
   ]
  },
  {
   "cell_type": "code",
   "execution_count": 110,
   "metadata": {
    "collapsed": true
   },
   "outputs": [
    {
     "data": {
      "text/html": [
       "<div>\n",
       "<style scoped>\n",
       "    .dataframe tbody tr th:only-of-type {\n",
       "        vertical-align: middle;\n",
       "    }\n",
       "\n",
       "    .dataframe tbody tr th {\n",
       "        vertical-align: top;\n",
       "    }\n",
       "\n",
       "    .dataframe thead th {\n",
       "        text-align: right;\n",
       "    }\n",
       "</style>\n",
       "<table border=\"1\" class=\"dataframe\">\n",
       "  <thead>\n",
       "    <tr style=\"text-align: right;\">\n",
       "      <th></th>\n",
       "      <th>Item_Weight</th>\n",
       "      <th>Item_Visibility</th>\n",
       "      <th>Item_MRP</th>\n",
       "      <th>Item_Outlet_Sales</th>\n",
       "      <th>Outlet_Age</th>\n",
       "      <th>PC1</th>\n",
       "      <th>PC2</th>\n",
       "      <th>PC3</th>\n",
       "      <th>PC4</th>\n",
       "      <th>PC5</th>\n",
       "      <th>PC6</th>\n",
       "    </tr>\n",
       "  </thead>\n",
       "  <tbody>\n",
       "    <tr>\n",
       "      <th>count</th>\n",
       "      <td>8523.000000</td>\n",
       "      <td>8523.000000</td>\n",
       "      <td>8523.000000</td>\n",
       "      <td>8523.000000</td>\n",
       "      <td>8523.000000</td>\n",
       "      <td>8.523000e+03</td>\n",
       "      <td>8.523000e+03</td>\n",
       "      <td>8.523000e+03</td>\n",
       "      <td>8.523000e+03</td>\n",
       "      <td>8.523000e+03</td>\n",
       "      <td>8.523000e+03</td>\n",
       "    </tr>\n",
       "    <tr>\n",
       "      <th>mean</th>\n",
       "      <td>12.857645</td>\n",
       "      <td>0.066132</td>\n",
       "      <td>140.992782</td>\n",
       "      <td>2181.288914</td>\n",
       "      <td>15.168133</td>\n",
       "      <td>-4.172031e-16</td>\n",
       "      <td>-1.573699e-16</td>\n",
       "      <td>-3.032369e-16</td>\n",
       "      <td>-1.240420e-16</td>\n",
       "      <td>-7.635958e-17</td>\n",
       "      <td>-1.191637e-16</td>\n",
       "    </tr>\n",
       "    <tr>\n",
       "      <th>std</th>\n",
       "      <td>4.226124</td>\n",
       "      <td>0.051598</td>\n",
       "      <td>62.275067</td>\n",
       "      <td>1706.499616</td>\n",
       "      <td>8.371760</td>\n",
       "      <td>1.937760e+00</td>\n",
       "      <td>1.059646e+00</td>\n",
       "      <td>1.000098e+00</td>\n",
       "      <td>9.198303e-01</td>\n",
       "      <td>8.336328e-01</td>\n",
       "      <td>6.776356e-01</td>\n",
       "    </tr>\n",
       "    <tr>\n",
       "      <th>min</th>\n",
       "      <td>4.555000</td>\n",
       "      <td>0.000000</td>\n",
       "      <td>31.290000</td>\n",
       "      <td>33.290000</td>\n",
       "      <td>4.000000</td>\n",
       "      <td>-2.038366e+00</td>\n",
       "      <td>-2.266375e+00</td>\n",
       "      <td>-7.860292e-01</td>\n",
       "      <td>-1.912587e+00</td>\n",
       "      <td>-6.892187e-01</td>\n",
       "      <td>-1.222602e+00</td>\n",
       "    </tr>\n",
       "    <tr>\n",
       "      <th>25%</th>\n",
       "      <td>9.310000</td>\n",
       "      <td>0.026989</td>\n",
       "      <td>93.826500</td>\n",
       "      <td>834.247400</td>\n",
       "      <td>9.000000</td>\n",
       "      <td>-2.034492e+00</td>\n",
       "      <td>-8.897590e-03</td>\n",
       "      <td>-7.374327e-01</td>\n",
       "      <td>-2.533027e-01</td>\n",
       "      <td>-6.885153e-01</td>\n",
       "      <td>-3.282284e-01</td>\n",
       "    </tr>\n",
       "    <tr>\n",
       "      <th>50%</th>\n",
       "      <td>12.857645</td>\n",
       "      <td>0.053931</td>\n",
       "      <td>143.012800</td>\n",
       "      <td>1794.331000</td>\n",
       "      <td>14.000000</td>\n",
       "      <td>4.355937e-01</td>\n",
       "      <td>-7.257329e-03</td>\n",
       "      <td>-7.286374e-01</td>\n",
       "      <td>-8.192145e-02</td>\n",
       "      <td>-6.695217e-01</td>\n",
       "      <td>-1.013851e-01</td>\n",
       "    </tr>\n",
       "    <tr>\n",
       "      <th>75%</th>\n",
       "      <td>16.000000</td>\n",
       "      <td>0.094585</td>\n",
       "      <td>185.643700</td>\n",
       "      <td>3101.296400</td>\n",
       "      <td>26.000000</td>\n",
       "      <td>5.342465e-01</td>\n",
       "      <td>1.516569e-02</td>\n",
       "      <td>1.354647e+00</td>\n",
       "      <td>9.433153e-02</td>\n",
       "      <td>7.835514e-01</td>\n",
       "      <td>7.344925e-01</td>\n",
       "    </tr>\n",
       "    <tr>\n",
       "      <th>max</th>\n",
       "      <td>21.350000</td>\n",
       "      <td>0.328391</td>\n",
       "      <td>266.888400</td>\n",
       "      <td>13086.964800</td>\n",
       "      <td>28.000000</td>\n",
       "      <td>3.141364e+00</td>\n",
       "      <td>2.289587e+00</td>\n",
       "      <td>1.406991e+00</td>\n",
       "      <td>2.061783e+00</td>\n",
       "      <td>1.578266e+00</td>\n",
       "      <td>1.443557e+00</td>\n",
       "    </tr>\n",
       "  </tbody>\n",
       "</table>\n",
       "</div>"
      ],
      "text/plain": [
       "       Item_Weight  Item_Visibility     Item_MRP  Item_Outlet_Sales  \\\n",
       "count  8523.000000      8523.000000  8523.000000        8523.000000   \n",
       "mean     12.857645         0.066132   140.992782        2181.288914   \n",
       "std       4.226124         0.051598    62.275067        1706.499616   \n",
       "min       4.555000         0.000000    31.290000          33.290000   \n",
       "25%       9.310000         0.026989    93.826500         834.247400   \n",
       "50%      12.857645         0.053931   143.012800        1794.331000   \n",
       "75%      16.000000         0.094585   185.643700        3101.296400   \n",
       "max      21.350000         0.328391   266.888400       13086.964800   \n",
       "\n",
       "        Outlet_Age           PC1           PC2           PC3           PC4  \\\n",
       "count  8523.000000  8.523000e+03  8.523000e+03  8.523000e+03  8.523000e+03   \n",
       "mean     15.168133 -4.172031e-16 -1.573699e-16 -3.032369e-16 -1.240420e-16   \n",
       "std       8.371760  1.937760e+00  1.059646e+00  1.000098e+00  9.198303e-01   \n",
       "min       4.000000 -2.038366e+00 -2.266375e+00 -7.860292e-01 -1.912587e+00   \n",
       "25%       9.000000 -2.034492e+00 -8.897590e-03 -7.374327e-01 -2.533027e-01   \n",
       "50%      14.000000  4.355937e-01 -7.257329e-03 -7.286374e-01 -8.192145e-02   \n",
       "75%      26.000000  5.342465e-01  1.516569e-02  1.354647e+00  9.433153e-02   \n",
       "max      28.000000  3.141364e+00  2.289587e+00  1.406991e+00  2.061783e+00   \n",
       "\n",
       "                PC5           PC6  \n",
       "count  8.523000e+03  8.523000e+03  \n",
       "mean  -7.635958e-17 -1.191637e-16  \n",
       "std    8.336328e-01  6.776356e-01  \n",
       "min   -6.892187e-01 -1.222602e+00  \n",
       "25%   -6.885153e-01 -3.282284e-01  \n",
       "50%   -6.695217e-01 -1.013851e-01  \n",
       "75%    7.835514e-01  7.344925e-01  \n",
       "max    1.578266e+00  1.443557e+00  "
      ]
     },
     "execution_count": 110,
     "metadata": {},
     "output_type": "execute_result"
    }
   ],
   "source": [
    "df_f2.describe()"
   ]
  },
  {
   "cell_type": "code",
   "execution_count": 160,
   "metadata": {},
   "outputs": [],
   "source": [
    "x = df_f2.drop([\"Item_Outlet_Sales\", \"Item_Identifier\", \"Item_Type\"], axis = 1)\n",
    "x[\"Item_MRP\"] = np.log10(x[\"Item_MRP\"])\n",
    "y = np.log10(df[\"Item_Outlet_Sales\"])"
   ]
  },
  {
   "cell_type": "code",
   "execution_count": 161,
   "metadata": {},
   "outputs": [
    {
     "data": {
      "text/html": [
       "<div>\n",
       "<style scoped>\n",
       "    .dataframe tbody tr th:only-of-type {\n",
       "        vertical-align: middle;\n",
       "    }\n",
       "\n",
       "    .dataframe tbody tr th {\n",
       "        vertical-align: top;\n",
       "    }\n",
       "\n",
       "    .dataframe thead th {\n",
       "        text-align: right;\n",
       "    }\n",
       "</style>\n",
       "<table border=\"1\" class=\"dataframe\">\n",
       "  <thead>\n",
       "    <tr style=\"text-align: right;\">\n",
       "      <th></th>\n",
       "      <th>Item_Weight</th>\n",
       "      <th>Item_Visibility</th>\n",
       "      <th>Item_MRP</th>\n",
       "      <th>Outlet_Age</th>\n",
       "      <th>PC1</th>\n",
       "      <th>PC2</th>\n",
       "      <th>PC3</th>\n",
       "      <th>PC4</th>\n",
       "      <th>PC5</th>\n",
       "      <th>PC6</th>\n",
       "    </tr>\n",
       "  </thead>\n",
       "  <tbody>\n",
       "    <tr>\n",
       "      <th>0</th>\n",
       "      <td>9.30</td>\n",
       "      <td>0.016047</td>\n",
       "      <td>2.397608</td>\n",
       "      <td>14</td>\n",
       "      <td>0.530373</td>\n",
       "      <td>-0.007091</td>\n",
       "      <td>-0.685088</td>\n",
       "      <td>2.061783</td>\n",
       "      <td>0.058171</td>\n",
       "      <td>0.805714</td>\n",
       "    </tr>\n",
       "    <tr>\n",
       "      <th>1</th>\n",
       "      <td>5.92</td>\n",
       "      <td>0.019278</td>\n",
       "      <td>1.683670</td>\n",
       "      <td>4</td>\n",
       "      <td>3.140134</td>\n",
       "      <td>2.289587</td>\n",
       "      <td>1.315939</td>\n",
       "      <td>-0.305988</td>\n",
       "      <td>-0.670445</td>\n",
       "      <td>-0.101508</td>\n",
       "    </tr>\n",
       "  </tbody>\n",
       "</table>\n",
       "</div>"
      ],
      "text/plain": [
       "   Item_Weight  Item_Visibility  Item_MRP  Outlet_Age       PC1       PC2  \\\n",
       "0         9.30         0.016047  2.397608          14  0.530373 -0.007091   \n",
       "1         5.92         0.019278  1.683670           4  3.140134  2.289587   \n",
       "\n",
       "        PC3       PC4       PC5       PC6  \n",
       "0 -0.685088  2.061783  0.058171  0.805714  \n",
       "1  1.315939 -0.305988 -0.670445 -0.101508  "
      ]
     },
     "execution_count": 161,
     "metadata": {},
     "output_type": "execute_result"
    }
   ],
   "source": [
    "x.head(2)"
   ]
  },
  {
   "cell_type": "code",
   "execution_count": 162,
   "metadata": {},
   "outputs": [
    {
     "data": {
      "text/html": [
       "<div>\n",
       "<style scoped>\n",
       "    .dataframe tbody tr th:only-of-type {\n",
       "        vertical-align: middle;\n",
       "    }\n",
       "\n",
       "    .dataframe tbody tr th {\n",
       "        vertical-align: top;\n",
       "    }\n",
       "\n",
       "    .dataframe thead th {\n",
       "        text-align: right;\n",
       "    }\n",
       "</style>\n",
       "<table border=\"1\" class=\"dataframe\">\n",
       "  <thead>\n",
       "    <tr style=\"text-align: right;\">\n",
       "      <th></th>\n",
       "      <th>Item_Weight</th>\n",
       "      <th>Item_Visibility</th>\n",
       "      <th>Item_MRP</th>\n",
       "      <th>Outlet_Age</th>\n",
       "      <th>PC1</th>\n",
       "      <th>PC2</th>\n",
       "      <th>PC3</th>\n",
       "      <th>PC4</th>\n",
       "      <th>PC5</th>\n",
       "      <th>PC6</th>\n",
       "    </tr>\n",
       "  </thead>\n",
       "  <tbody>\n",
       "    <tr>\n",
       "      <th>count</th>\n",
       "      <td>8523.000000</td>\n",
       "      <td>8523.000000</td>\n",
       "      <td>8523.000000</td>\n",
       "      <td>8523.000000</td>\n",
       "      <td>8.523000e+03</td>\n",
       "      <td>8.523000e+03</td>\n",
       "      <td>8.523000e+03</td>\n",
       "      <td>8.523000e+03</td>\n",
       "      <td>8.523000e+03</td>\n",
       "      <td>8.523000e+03</td>\n",
       "    </tr>\n",
       "    <tr>\n",
       "      <th>mean</th>\n",
       "      <td>12.857645</td>\n",
       "      <td>0.066132</td>\n",
       "      <td>2.096853</td>\n",
       "      <td>15.168133</td>\n",
       "      <td>-4.172031e-16</td>\n",
       "      <td>-1.573699e-16</td>\n",
       "      <td>-3.032369e-16</td>\n",
       "      <td>-1.240420e-16</td>\n",
       "      <td>-7.635958e-17</td>\n",
       "      <td>-1.191637e-16</td>\n",
       "    </tr>\n",
       "    <tr>\n",
       "      <th>std</th>\n",
       "      <td>4.226124</td>\n",
       "      <td>0.051598</td>\n",
       "      <td>0.228481</td>\n",
       "      <td>8.371760</td>\n",
       "      <td>1.937760e+00</td>\n",
       "      <td>1.059646e+00</td>\n",
       "      <td>1.000098e+00</td>\n",
       "      <td>9.198303e-01</td>\n",
       "      <td>8.336328e-01</td>\n",
       "      <td>6.776356e-01</td>\n",
       "    </tr>\n",
       "    <tr>\n",
       "      <th>min</th>\n",
       "      <td>4.555000</td>\n",
       "      <td>0.000000</td>\n",
       "      <td>1.495406</td>\n",
       "      <td>4.000000</td>\n",
       "      <td>-2.038366e+00</td>\n",
       "      <td>-2.266375e+00</td>\n",
       "      <td>-7.860292e-01</td>\n",
       "      <td>-1.912587e+00</td>\n",
       "      <td>-6.892187e-01</td>\n",
       "      <td>-1.222602e+00</td>\n",
       "    </tr>\n",
       "    <tr>\n",
       "      <th>25%</th>\n",
       "      <td>9.310000</td>\n",
       "      <td>0.026989</td>\n",
       "      <td>1.972326</td>\n",
       "      <td>9.000000</td>\n",
       "      <td>-2.034492e+00</td>\n",
       "      <td>-8.897590e-03</td>\n",
       "      <td>-7.374327e-01</td>\n",
       "      <td>-2.533027e-01</td>\n",
       "      <td>-6.885153e-01</td>\n",
       "      <td>-3.282284e-01</td>\n",
       "    </tr>\n",
       "    <tr>\n",
       "      <th>50%</th>\n",
       "      <td>12.857645</td>\n",
       "      <td>0.053931</td>\n",
       "      <td>2.155375</td>\n",
       "      <td>14.000000</td>\n",
       "      <td>4.355937e-01</td>\n",
       "      <td>-7.257329e-03</td>\n",
       "      <td>-7.286374e-01</td>\n",
       "      <td>-8.192145e-02</td>\n",
       "      <td>-6.695217e-01</td>\n",
       "      <td>-1.013851e-01</td>\n",
       "    </tr>\n",
       "    <tr>\n",
       "      <th>75%</th>\n",
       "      <td>16.000000</td>\n",
       "      <td>0.094585</td>\n",
       "      <td>2.268680</td>\n",
       "      <td>26.000000</td>\n",
       "      <td>5.342465e-01</td>\n",
       "      <td>1.516569e-02</td>\n",
       "      <td>1.354647e+00</td>\n",
       "      <td>9.433153e-02</td>\n",
       "      <td>7.835514e-01</td>\n",
       "      <td>7.344925e-01</td>\n",
       "    </tr>\n",
       "    <tr>\n",
       "      <th>max</th>\n",
       "      <td>21.350000</td>\n",
       "      <td>0.328391</td>\n",
       "      <td>2.426330</td>\n",
       "      <td>28.000000</td>\n",
       "      <td>3.141364e+00</td>\n",
       "      <td>2.289587e+00</td>\n",
       "      <td>1.406991e+00</td>\n",
       "      <td>2.061783e+00</td>\n",
       "      <td>1.578266e+00</td>\n",
       "      <td>1.443557e+00</td>\n",
       "    </tr>\n",
       "  </tbody>\n",
       "</table>\n",
       "</div>"
      ],
      "text/plain": [
       "       Item_Weight  Item_Visibility     Item_MRP   Outlet_Age           PC1  \\\n",
       "count  8523.000000      8523.000000  8523.000000  8523.000000  8.523000e+03   \n",
       "mean     12.857645         0.066132     2.096853    15.168133 -4.172031e-16   \n",
       "std       4.226124         0.051598     0.228481     8.371760  1.937760e+00   \n",
       "min       4.555000         0.000000     1.495406     4.000000 -2.038366e+00   \n",
       "25%       9.310000         0.026989     1.972326     9.000000 -2.034492e+00   \n",
       "50%      12.857645         0.053931     2.155375    14.000000  4.355937e-01   \n",
       "75%      16.000000         0.094585     2.268680    26.000000  5.342465e-01   \n",
       "max      21.350000         0.328391     2.426330    28.000000  3.141364e+00   \n",
       "\n",
       "                PC2           PC3           PC4           PC5           PC6  \n",
       "count  8.523000e+03  8.523000e+03  8.523000e+03  8.523000e+03  8.523000e+03  \n",
       "mean  -1.573699e-16 -3.032369e-16 -1.240420e-16 -7.635958e-17 -1.191637e-16  \n",
       "std    1.059646e+00  1.000098e+00  9.198303e-01  8.336328e-01  6.776356e-01  \n",
       "min   -2.266375e+00 -7.860292e-01 -1.912587e+00 -6.892187e-01 -1.222602e+00  \n",
       "25%   -8.897590e-03 -7.374327e-01 -2.533027e-01 -6.885153e-01 -3.282284e-01  \n",
       "50%   -7.257329e-03 -7.286374e-01 -8.192145e-02 -6.695217e-01 -1.013851e-01  \n",
       "75%    1.516569e-02  1.354647e+00  9.433153e-02  7.835514e-01  7.344925e-01  \n",
       "max    2.289587e+00  1.406991e+00  2.061783e+00  1.578266e+00  1.443557e+00  "
      ]
     },
     "execution_count": 162,
     "metadata": {},
     "output_type": "execute_result"
    }
   ],
   "source": [
    "x.describe()"
   ]
  },
  {
   "cell_type": "code",
   "execution_count": 163,
   "metadata": {},
   "outputs": [
    {
     "data": {
      "text/plain": [
       "0    3.572307\n",
       "1    2.646818\n",
       "Name: Item_Outlet_Sales, dtype: float64"
      ]
     },
     "execution_count": 163,
     "metadata": {},
     "output_type": "execute_result"
    }
   ],
   "source": [
    "y.head(2)"
   ]
  },
  {
   "cell_type": "code",
   "execution_count": 164,
   "metadata": {
    "collapsed": true
   },
   "outputs": [
    {
     "data": {
      "text/plain": [
       "0       0.379778\n",
       "1       0.226257\n",
       "2       0.332664\n",
       "3       0.354166\n",
       "4       0.238367\n",
       "5       0.233242\n",
       "6       0.245726\n",
       "7       0.308023\n",
       "8       0.298121\n",
       "9       0.356742\n",
       "10      0.219688\n",
       "11      0.334191\n",
       "12      0.335016\n",
       "13      0.317649\n",
       "14      0.360449\n",
       "15      0.243282\n",
       "16      0.314292\n",
       "17      0.239372\n",
       "18      0.312636\n",
       "19      0.373415\n",
       "20      0.380112\n",
       "21      0.334454\n",
       "22      0.360476\n",
       "23      0.307964\n",
       "24      0.345871\n",
       "25      0.220597\n",
       "26      0.211242\n",
       "27      0.202041\n",
       "28      0.219609\n",
       "29      0.214828\n",
       "          ...   \n",
       "8493    0.357342\n",
       "8494    0.310338\n",
       "8495    0.343498\n",
       "8496    0.355645\n",
       "8497    0.337680\n",
       "8498    0.321272\n",
       "8499    0.301034\n",
       "8500    0.321700\n",
       "8501    0.301440\n",
       "8502    0.368342\n",
       "8503    0.318025\n",
       "8504    0.311386\n",
       "8505    0.366221\n",
       "8506    0.383864\n",
       "8507    0.302708\n",
       "8508    0.361706\n",
       "8509    0.367429\n",
       "8510    0.373783\n",
       "8511    0.383686\n",
       "8512    0.352406\n",
       "8513    0.300940\n",
       "8514    0.245599\n",
       "8515    0.341901\n",
       "8516    0.247746\n",
       "8517    0.352654\n",
       "8518    0.367630\n",
       "8519    0.308363\n",
       "8520    0.285567\n",
       "8521    0.303930\n",
       "8522    0.273639\n",
       "Name: Item_MRP, Length: 8523, dtype: float64"
      ]
     },
     "execution_count": 164,
     "metadata": {},
     "output_type": "execute_result"
    }
   ],
   "source": [
    "np.log10(x[\"Item_MRP\"])"
   ]
  },
  {
   "cell_type": "markdown",
   "metadata": {},
   "source": [
    "## Model 1: Linear Regression"
   ]
  },
  {
   "cell_type": "code",
   "execution_count": 212,
   "metadata": {},
   "outputs": [],
   "source": [
    "x_train, x_test, y_train, y_test = train_test_split(x, y, test_size=0.3)"
   ]
  },
  {
   "cell_type": "code",
   "execution_count": 213,
   "metadata": {},
   "outputs": [
    {
     "data": {
      "text/html": [
       "<div>\n",
       "<style scoped>\n",
       "    .dataframe tbody tr th:only-of-type {\n",
       "        vertical-align: middle;\n",
       "    }\n",
       "\n",
       "    .dataframe tbody tr th {\n",
       "        vertical-align: top;\n",
       "    }\n",
       "\n",
       "    .dataframe thead th {\n",
       "        text-align: right;\n",
       "    }\n",
       "</style>\n",
       "<table border=\"1\" class=\"dataframe\">\n",
       "  <thead>\n",
       "    <tr style=\"text-align: right;\">\n",
       "      <th></th>\n",
       "      <th>Item_Weight</th>\n",
       "      <th>Item_Visibility</th>\n",
       "      <th>Item_MRP</th>\n",
       "      <th>Outlet_Age</th>\n",
       "      <th>PC1</th>\n",
       "      <th>PC2</th>\n",
       "      <th>PC3</th>\n",
       "      <th>PC4</th>\n",
       "      <th>PC5</th>\n",
       "      <th>PC6</th>\n",
       "    </tr>\n",
       "  </thead>\n",
       "  <tbody>\n",
       "    <tr>\n",
       "      <th>count</th>\n",
       "      <td>5966.000000</td>\n",
       "      <td>5966.000000</td>\n",
       "      <td>5966.000000</td>\n",
       "      <td>5966.000000</td>\n",
       "      <td>5966.000000</td>\n",
       "      <td>5966.000000</td>\n",
       "      <td>5966.000000</td>\n",
       "      <td>5966.000000</td>\n",
       "      <td>5966.000000</td>\n",
       "      <td>5966.000000</td>\n",
       "    </tr>\n",
       "    <tr>\n",
       "      <th>mean</th>\n",
       "      <td>12.841509</td>\n",
       "      <td>0.066376</td>\n",
       "      <td>2.097749</td>\n",
       "      <td>15.177506</td>\n",
       "      <td>-0.022515</td>\n",
       "      <td>-0.008323</td>\n",
       "      <td>0.009411</td>\n",
       "      <td>-0.005589</td>\n",
       "      <td>0.001123</td>\n",
       "      <td>-0.000979</td>\n",
       "    </tr>\n",
       "    <tr>\n",
       "      <th>std</th>\n",
       "      <td>4.250994</td>\n",
       "      <td>0.051610</td>\n",
       "      <td>0.228676</td>\n",
       "      <td>8.334167</td>\n",
       "      <td>1.933529</td>\n",
       "      <td>1.051001</td>\n",
       "      <td>1.002901</td>\n",
       "      <td>0.916219</td>\n",
       "      <td>0.834166</td>\n",
       "      <td>0.675491</td>\n",
       "    </tr>\n",
       "    <tr>\n",
       "      <th>min</th>\n",
       "      <td>4.555000</td>\n",
       "      <td>0.000000</td>\n",
       "      <td>1.495406</td>\n",
       "      <td>4.000000</td>\n",
       "      <td>-2.038366</td>\n",
       "      <td>-2.266375</td>\n",
       "      <td>-0.786029</td>\n",
       "      <td>-1.912587</td>\n",
       "      <td>-0.689219</td>\n",
       "      <td>-1.222602</td>\n",
       "    </tr>\n",
       "    <tr>\n",
       "      <th>25%</th>\n",
       "      <td>9.300000</td>\n",
       "      <td>0.026941</td>\n",
       "      <td>1.971832</td>\n",
       "      <td>9.000000</td>\n",
       "      <td>-2.034492</td>\n",
       "      <td>-0.008898</td>\n",
       "      <td>-0.737433</td>\n",
       "      <td>-0.253303</td>\n",
       "      <td>-0.688515</td>\n",
       "      <td>-0.328228</td>\n",
       "    </tr>\n",
       "    <tr>\n",
       "      <th>50%</th>\n",
       "      <td>12.857645</td>\n",
       "      <td>0.054364</td>\n",
       "      <td>2.155127</td>\n",
       "      <td>14.000000</td>\n",
       "      <td>-0.417959</td>\n",
       "      <td>-0.007257</td>\n",
       "      <td>-0.728637</td>\n",
       "      <td>-0.081921</td>\n",
       "      <td>-0.669522</td>\n",
       "      <td>-0.101385</td>\n",
       "    </tr>\n",
       "    <tr>\n",
       "      <th>75%</th>\n",
       "      <td>16.000000</td>\n",
       "      <td>0.095565</td>\n",
       "      <td>2.270557</td>\n",
       "      <td>26.000000</td>\n",
       "      <td>0.534247</td>\n",
       "      <td>0.015166</td>\n",
       "      <td>1.354647</td>\n",
       "      <td>0.094332</td>\n",
       "      <td>0.783551</td>\n",
       "      <td>0.734492</td>\n",
       "    </tr>\n",
       "    <tr>\n",
       "      <th>max</th>\n",
       "      <td>21.350000</td>\n",
       "      <td>0.328391</td>\n",
       "      <td>2.426330</td>\n",
       "      <td>28.000000</td>\n",
       "      <td>3.141364</td>\n",
       "      <td>2.289587</td>\n",
       "      <td>1.406991</td>\n",
       "      <td>2.061783</td>\n",
       "      <td>1.578266</td>\n",
       "      <td>1.443557</td>\n",
       "    </tr>\n",
       "  </tbody>\n",
       "</table>\n",
       "</div>"
      ],
      "text/plain": [
       "       Item_Weight  Item_Visibility     Item_MRP   Outlet_Age          PC1  \\\n",
       "count  5966.000000      5966.000000  5966.000000  5966.000000  5966.000000   \n",
       "mean     12.841509         0.066376     2.097749    15.177506    -0.022515   \n",
       "std       4.250994         0.051610     0.228676     8.334167     1.933529   \n",
       "min       4.555000         0.000000     1.495406     4.000000    -2.038366   \n",
       "25%       9.300000         0.026941     1.971832     9.000000    -2.034492   \n",
       "50%      12.857645         0.054364     2.155127    14.000000    -0.417959   \n",
       "75%      16.000000         0.095565     2.270557    26.000000     0.534247   \n",
       "max      21.350000         0.328391     2.426330    28.000000     3.141364   \n",
       "\n",
       "               PC2          PC3          PC4          PC5          PC6  \n",
       "count  5966.000000  5966.000000  5966.000000  5966.000000  5966.000000  \n",
       "mean     -0.008323     0.009411    -0.005589     0.001123    -0.000979  \n",
       "std       1.051001     1.002901     0.916219     0.834166     0.675491  \n",
       "min      -2.266375    -0.786029    -1.912587    -0.689219    -1.222602  \n",
       "25%      -0.008898    -0.737433    -0.253303    -0.688515    -0.328228  \n",
       "50%      -0.007257    -0.728637    -0.081921    -0.669522    -0.101385  \n",
       "75%       0.015166     1.354647     0.094332     0.783551     0.734492  \n",
       "max       2.289587     1.406991     2.061783     1.578266     1.443557  "
      ]
     },
     "execution_count": 213,
     "metadata": {},
     "output_type": "execute_result"
    }
   ],
   "source": [
    "x_train.describe()"
   ]
  },
  {
   "cell_type": "code",
   "execution_count": 214,
   "metadata": {},
   "outputs": [],
   "source": [
    "model_1 = LinearRegression()"
   ]
  },
  {
   "cell_type": "code",
   "execution_count": 215,
   "metadata": {},
   "outputs": [
    {
     "data": {
      "text/plain": [
       "LinearRegression(copy_X=True, fit_intercept=True, n_jobs=1, normalize=False)"
      ]
     },
     "execution_count": 215,
     "metadata": {},
     "output_type": "execute_result"
    }
   ],
   "source": [
    "model_1.fit(x_train, y_train)"
   ]
  },
  {
   "cell_type": "code",
   "execution_count": 216,
   "metadata": {},
   "outputs": [],
   "source": [
    "model_1_prediction = model_1.predict(x_test)"
   ]
  },
  {
   "cell_type": "code",
   "execution_count": 217,
   "metadata": {},
   "outputs": [
    {
     "data": {
      "text/plain": [
       "<matplotlib.axes._subplots.AxesSubplot at 0xa1209acc50>"
      ]
     },
     "execution_count": 217,
     "metadata": {},
     "output_type": "execute_result"
    },
    {
     "data": {
      "image/png": "[encoded data removed]",
      "text/plain": [
       "<Figure size 432x288 with 1 Axes>"
      ]
     },
     "metadata": {
      "needs_background": "light"
     },
     "output_type": "display_data"
    }
   ],
   "source": [
    "sns.residplot(model_1_prediction, y_test)"
   ]
  },
  {
   "cell_type": "code",
   "execution_count": 218,
   "metadata": {},
   "outputs": [
    {
     "name": "stderr",
     "output_type": "stream",
     "text": [
      "C:\\Anaconda3\\lib\\site-packages\\scipy\\stats\\stats.py:1713: FutureWarning: Using a non-tuple sequence for multidimensional indexing is deprecated; use `arr[tuple(seq)]` instead of `arr[seq]`. In the future this will be interpreted as an array index, `arr[np.array(seq)]`, which will result either in an error or a different result.\n",
      "  return np.add.reduce(sorted[indexer] * weights, axis=axis) / sumval\n"
     ]
    },
    {
     "data": {
      "text/plain": [
       "<matplotlib.axes._subplots.AxesSubplot at 0xa1209fa8d0>"
      ]
     },
     "execution_count": 218,
     "metadata": {},
     "output_type": "execute_result"
    },
    {
     "data": {
      "image/png": "[encoded data removed]",
      "text/plain": [
       "<Figure size 432x288 with 1 Axes>"
      ]
     },
     "metadata": {
      "needs_background": "light"
     },
     "output_type": "display_data"
    }
   ],
   "source": [
    "ax1 = sns.distplot(y_test, hist = False, label = \"Actual\")\n",
    "sns.distplot(model_1_prediction, hist = False, label = \"Predicted\", ax = ax1)"
   ]
  },
  {
   "cell_type": "code",
   "execution_count": 219,
   "metadata": {},
   "outputs": [
    {
     "name": "stdout",
     "output_type": "stream",
     "text": [
      "[0.61243011 0.61011053 0.65599296 0.60320357]\n"
     ]
    }
   ],
   "source": [
    "cv_score_1 = cross_val_score(model_1, x_test, y_test, cv = 4)\n",
    "print(cv_score_1)"
   ]
  },
  {
   "cell_type": "markdown",
   "metadata": {},
   "source": [
    "## Model 2: Polynomial Regression"
   ]
  },
  {
   "cell_type": "code",
   "execution_count": 249,
   "metadata": {},
   "outputs": [],
   "source": [
    "poly_reg = pf(degree = 2)"
   ]
  },
  {
   "cell_type": "code",
   "execution_count": 250,
   "metadata": {},
   "outputs": [],
   "source": [
    "x_train_poly = poly_reg.fit_transform(x_train)"
   ]
  },
  {
   "cell_type": "code",
   "execution_count": 251,
   "metadata": {},
   "outputs": [
    {
     "data": {
      "text/plain": [
       "LinearRegression(copy_X=True, fit_intercept=True, n_jobs=1, normalize=False)"
      ]
     },
     "execution_count": 251,
     "metadata": {},
     "output_type": "execute_result"
    }
   ],
   "source": [
    "model_2 = LinearRegression()\n",
    "model_2.fit(x_train_poly, y_train)"
   ]
  },
  {
   "cell_type": "code",
   "execution_count": 252,
   "metadata": {},
   "outputs": [],
   "source": [
    "x_test_poly = poly_reg.fit_transform(x_test)"
   ]
  },
  {
   "cell_type": "code",
   "execution_count": 253,
   "metadata": {},
   "outputs": [],
   "source": [
    "model_2_prediction = model_2.predict(x_test_poly)"
   ]
  },
  {
   "cell_type": "code",
   "execution_count": 254,
   "metadata": {},
   "outputs": [
    {
     "data": {
      "text/plain": [
       "<matplotlib.axes._subplots.AxesSubplot at 0xa10106c550>"
      ]
     },
     "execution_count": 254,
     "metadata": {},
     "output_type": "execute_result"
    },
    {
     "data": {
      "image/png": "[encoded data removed]",
      "text/plain": [
       "<Figure size 432x288 with 1 Axes>"
      ]
     },
     "metadata": {
      "needs_background": "light"
     },
     "output_type": "display_data"
    }
   ],
   "source": [
    "sns.residplot(model_2_prediction, y_test)"
   ]
  },
  {
   "cell_type": "code",
   "execution_count": 255,
   "metadata": {},
   "outputs": [
    {
     "name": "stderr",
     "output_type": "stream",
     "text": [
      "C:\\Anaconda3\\lib\\site-packages\\scipy\\stats\\stats.py:1713: FutureWarning: Using a non-tuple sequence for multidimensional indexing is deprecated; use `arr[tuple(seq)]` instead of `arr[seq]`. In the future this will be interpreted as an array index, `arr[np.array(seq)]`, which will result either in an error or a different result.\n",
      "  return np.add.reduce(sorted[indexer] * weights, axis=axis) / sumval\n"
     ]
    },
    {
     "data": {
      "text/plain": [
       "<matplotlib.axes._subplots.AxesSubplot at 0xa10153f278>"
      ]
     },
     "execution_count": 255,
     "metadata": {},
     "output_type": "execute_result"
    },
    {
     "data": {
      "image/png": "[encoded data removed]",
      "text/plain": [
       "<Figure size 432x288 with 1 Axes>"
      ]
     },
     "metadata": {
      "needs_background": "light"
     },
     "output_type": "display_data"
    }
   ],
   "source": [
    "ax1 = sns.distplot(y_test, hist = False, label = \"Actual\")\n",
    "sns.distplot(model_2_prediction, hist = False, label = \"Predicted\", ax = ax1)"
   ]
  },
  {
   "cell_type": "code",
   "execution_count": 256,
   "metadata": {},
   "outputs": [
    {
     "name": "stdout",
     "output_type": "stream",
     "text": [
      "[0.61243011 0.61011053 0.65599296 0.60320357]\n"
     ]
    }
   ],
   "source": [
    "cv_score_2 = cross_val_score(model_2, x_test, y_test, cv = 4)\n",
    "print(cv_score_2)"
   ]
  },
  {
   "cell_type": "code",
   "execution_count": 257,
   "metadata": {},
   "outputs": [],
   "source": [
    "model2pred = 10**model_2_prediction"
   ]
  },
  {
   "cell_type": "code",
   "execution_count": 258,
   "metadata": {},
   "outputs": [],
   "source": [
    "model2actual = 10**y_test"
   ]
  },
  {
   "cell_type": "code",
   "execution_count": 259,
   "metadata": {},
   "outputs": [],
   "source": [
    "def rmse(predictions, targets):\n",
    "    return np.sqrt(((predictions - targets) ** 2).mean())"
   ]
  },
  {
   "cell_type": "code",
   "execution_count": 260,
   "metadata": {},
   "outputs": [
    {
     "data": {
      "text/plain": [
       "1088.865318649368"
      ]
     },
     "execution_count": 260,
     "metadata": {},
     "output_type": "execute_result"
    }
   ],
   "source": [
    "rmse(model2pred, model2actual)"
   ]
  },
  {
   "cell_type": "code",
   "execution_count": 246,
   "metadata": {},
   "outputs": [],
   "source": [
    "model1pred = 10**model_1_prediction\n",
    "model1actual = 10**y_test"
   ]
  },
  {
   "cell_type": "code",
   "execution_count": 247,
   "metadata": {},
   "outputs": [
    {
     "data": {
      "text/plain": [
       "1229.9472614121003"
      ]
     },
     "execution_count": 247,
     "metadata": {},
     "output_type": "execute_result"
    }
   ],
   "source": [
    "rmse(model1pred, model1actual)"
   ]
  },
  {
   "cell_type": "code",
   "execution_count": 261,
   "metadata": {},
   "outputs": [],
   "source": [
    "csv_2 = \"E:\\\\Python\\\\Bigmart Sales\\\\test.csv\"\n",
    "DF = pd.read_csv(csv_2)"
   ]
  },
  {
   "cell_type": "code",
   "execution_count": 267,
   "metadata": {},
   "outputs": [],
   "source": [
    "DF[\"Item_Fat_Content\"].replace(\"LF\", \"Low Fat\", inplace = True)"
   ]
  },
  {
   "cell_type": "code",
   "execution_count": 268,
   "metadata": {},
   "outputs": [],
   "source": [
    "DF[\"Item_Fat_Content\"].replace(\"reg\", \"Regular\", inplace = True)"
   ]
  },
  {
   "cell_type": "code",
   "execution_count": 269,
   "metadata": {},
   "outputs": [],
   "source": [
    "DF_Outlet_Size = pd.get_dummies(DF[\"Outlet_Size\"], drop_first = True)\n",
    "DF_Outlet_Type = pd.get_dummies(DF[\"Outlet_Type\"], drop_first = True)\n",
    "DF_Outlet_Location_Type = pd.get_dummies(DF[\"Outlet_Location_Type\"], drop_first = True)\n",
    "DF_Item_Fat_Content = pd.get_dummies(DF[\"Item_Fat_Content\"], drop_first = True)"
   ]
  },
  {
   "cell_type": "code",
   "execution_count": 271,
   "metadata": {},
   "outputs": [],
   "source": [
    "DF = DF.join([DF_Outlet_Size,DF_Outlet_Type,DF_Outlet_Location_Type, DF_Item_Fat_Content])"
   ]
  },
  {
   "cell_type": "code",
   "execution_count": 273,
   "metadata": {},
   "outputs": [
    {
     "data": {
      "text/plain": [
       "Index(['Item_Identifier', 'Item_Weight', 'Item_Fat_Content', 'Item_Visibility',\n",
       "       'Item_Type', 'Item_MRP', 'Outlet_Identifier',\n",
       "       'Outlet_Establishment_Year', 'Outlet_Size', 'Outlet_Location_Type',\n",
       "       'Outlet_Type', 'Medium', 'Small', 'Supermarket Type1',\n",
       "       'Supermarket Type2', 'Supermarket Type3', 'Tier 2', 'Tier 3', 'Regular',\n",
       "       'low fat'],\n",
       "      dtype='object')"
      ]
     },
     "execution_count": 273,
     "metadata": {},
     "output_type": "execute_result"
    }
   ],
   "source": [
    "DF.columns"
   ]
  },
  {
   "cell_type": "code",
   "execution_count": 274,
   "metadata": {},
   "outputs": [],
   "source": [
    "COLS = ['Item_Identifier', 'Item_Weight', 'Item_Fat_Content', 'Item_Visibility',\n",
    "       'Item_Type', 'Item_MRP', 'Outlet_Identifier',\n",
    "       'Outlet_Establishment_Year', 'Outlet_Size', 'Outlet_Location_Type',\n",
    "       'Outlet_Type', 'Size Medium', 'Size Small', 'Supermarket Type1',\n",
    "       'Supermarket Type2', 'Supermarket Type3', 'City Tier 2', ' City Tier 3', 'Fat Regular',\n",
    "       'low fat']"
   ]
  },
  {
   "cell_type": "code",
   "execution_count": 277,
   "metadata": {},
   "outputs": [],
   "source": [
    "DF.columns = COLS"
   ]
  },
  {
   "cell_type": "code",
   "execution_count": 278,
   "metadata": {},
   "outputs": [
    {
     "data": {
      "text/html": [
       "<div>\n",
       "<style scoped>\n",
       "    .dataframe tbody tr th:only-of-type {\n",
       "        vertical-align: middle;\n",
       "    }\n",
       "\n",
       "    .dataframe tbody tr th {\n",
       "        vertical-align: top;\n",
       "    }\n",
       "\n",
       "    .dataframe thead th {\n",
       "        text-align: right;\n",
       "    }\n",
       "</style>\n",
       "<table border=\"1\" class=\"dataframe\">\n",
       "  <thead>\n",
       "    <tr style=\"text-align: right;\">\n",
       "      <th></th>\n",
       "      <th>Item_Identifier</th>\n",
       "      <th>Item_Weight</th>\n",
       "      <th>Item_Fat_Content</th>\n",
       "      <th>Item_Visibility</th>\n",
       "      <th>Item_Type</th>\n",
       "      <th>Item_MRP</th>\n",
       "      <th>Outlet_Identifier</th>\n",
       "      <th>Outlet_Establishment_Year</th>\n",
       "      <th>Outlet_Size</th>\n",
       "      <th>Outlet_Location_Type</th>\n",
       "      <th>Outlet_Type</th>\n",
       "      <th>Size Medium</th>\n",
       "      <th>Size Small</th>\n",
       "      <th>Supermarket Type1</th>\n",
       "      <th>Supermarket Type2</th>\n",
       "      <th>Supermarket Type3</th>\n",
       "      <th>City Tier 2</th>\n",
       "      <th>City Tier 3</th>\n",
       "      <th>Fat Regular</th>\n",
       "      <th>low fat</th>\n",
       "    </tr>\n",
       "  </thead>\n",
       "  <tbody>\n",
       "    <tr>\n",
       "      <th>0</th>\n",
       "      <td>FDR07</td>\n",
       "      <td>21.35</td>\n",
       "      <td>Low Fat</td>\n",
       "      <td>0.078184</td>\n",
       "      <td>Fruits and Vegetables</td>\n",
       "      <td>96.8094</td>\n",
       "      <td>OUT017</td>\n",
       "      <td>2007</td>\n",
       "      <td>Small</td>\n",
       "      <td>Tier 2</td>\n",
       "      <td>Supermarket Type1</td>\n",
       "      <td>0</td>\n",
       "      <td>1</td>\n",
       "      <td>1</td>\n",
       "      <td>0</td>\n",
       "      <td>0</td>\n",
       "      <td>1</td>\n",
       "      <td>0</td>\n",
       "      <td>0</td>\n",
       "      <td>0</td>\n",
       "    </tr>\n",
       "    <tr>\n",
       "      <th>1</th>\n",
       "      <td>FDR07</td>\n",
       "      <td>21.35</td>\n",
       "      <td>Low Fat</td>\n",
       "      <td>0.077729</td>\n",
       "      <td>Fruits and Vegetables</td>\n",
       "      <td>97.0094</td>\n",
       "      <td>OUT035</td>\n",
       "      <td>2004</td>\n",
       "      <td>Small</td>\n",
       "      <td>Tier 2</td>\n",
       "      <td>Supermarket Type1</td>\n",
       "      <td>0</td>\n",
       "      <td>1</td>\n",
       "      <td>1</td>\n",
       "      <td>0</td>\n",
       "      <td>0</td>\n",
       "      <td>1</td>\n",
       "      <td>0</td>\n",
       "      <td>0</td>\n",
       "      <td>0</td>\n",
       "    </tr>\n",
       "  </tbody>\n",
       "</table>\n",
       "</div>"
      ],
      "text/plain": [
       "  Item_Identifier  Item_Weight Item_Fat_Content  Item_Visibility  \\\n",
       "0           FDR07        21.35          Low Fat         0.078184   \n",
       "1           FDR07        21.35          Low Fat         0.077729   \n",
       "\n",
       "               Item_Type  Item_MRP Outlet_Identifier  \\\n",
       "0  Fruits and Vegetables   96.8094            OUT017   \n",
       "1  Fruits and Vegetables   97.0094            OUT035   \n",
       "\n",
       "   Outlet_Establishment_Year Outlet_Size Outlet_Location_Type  \\\n",
       "0                       2007       Small               Tier 2   \n",
       "1                       2004       Small               Tier 2   \n",
       "\n",
       "         Outlet_Type  Size Medium  Size Small  Supermarket Type1  \\\n",
       "0  Supermarket Type1            0           1                  1   \n",
       "1  Supermarket Type1            0           1                  1   \n",
       "\n",
       "   Supermarket Type2  Supermarket Type3  City Tier 2   City Tier 3  \\\n",
       "0                  0                  0            1             0   \n",
       "1                  0                  0            1             0   \n",
       "\n",
       "   Fat Regular  low fat  \n",
       "0            0        0  \n",
       "1            0        0  "
      ]
     },
     "execution_count": 278,
     "metadata": {},
     "output_type": "execute_result"
    }
   ],
   "source": [
    "DF.head(2)"
   ]
  },
  {
   "cell_type": "code",
   "execution_count": 279,
   "metadata": {},
   "outputs": [
    {
     "data": {
      "text/plain": [
       "Index(['Item_Identifier', 'Item_Weight', 'Item_Fat_Content', 'Item_Visibility',\n",
       "       'Item_Type', 'Item_MRP', 'Outlet_Identifier',\n",
       "       'Outlet_Establishment_Year', 'Outlet_Size', 'Outlet_Location_Type',\n",
       "       'Outlet_Type', 'Item_Outlet_Sales', 'Outlet_Age', 'Size Medium',\n",
       "       'Size Small', 'Supermarket Type1', 'Supermarket Type2',\n",
       "       'Supermarket Type3', 'City Tier 2', 'City Tier 3', 'Fat Regular'],\n",
       "      dtype='object')"
      ]
     },
     "execution_count": 279,
     "metadata": {},
     "output_type": "execute_result"
    }
   ],
   "source": [
    "df.columns"
   ]
  },
  {
   "cell_type": "code",
   "execution_count": 280,
   "metadata": {},
   "outputs": [
    {
     "data": {
      "text/plain": [
       "Index(['Item_Identifier', 'Item_Weight', 'Item_Fat_Content', 'Item_Visibility',\n",
       "       'Item_Type', 'Item_MRP', 'Outlet_Identifier',\n",
       "       'Outlet_Establishment_Year', 'Outlet_Size', 'Outlet_Location_Type',\n",
       "       'Outlet_Type', 'Size Medium', 'Size Small', 'Supermarket Type1',\n",
       "       'Supermarket Type2', 'Supermarket Type3', 'City Tier 2', ' City Tier 3',\n",
       "       'Fat Regular', 'low fat'],\n",
       "      dtype='object')"
      ]
     },
     "execution_count": 280,
     "metadata": {},
     "output_type": "execute_result"
    }
   ],
   "source": [
    "DF.columns"
   ]
  },
  {
   "cell_type": "code",
   "execution_count": null,
   "metadata": {},
   "outputs": [],
   "source": []
  }
 ],
 "metadata": {
  "kernelspec": {
   "display_name": "Python 3",
   "language": "python",
   "name": "python3"
  },
  "language_info": {
   "codemirror_mode": {
    "name": "ipython",
    "version": 3
   },
   "file_extension": ".py",
   "mimetype": "text/x-python",
   "name": "python",
   "nbconvert_exporter": "python",
   "pygments_lexer": "ipython3",
   "version": "3.7.0"
  }
 },
 "nbformat": 4,
 "nbformat_minor": 2
}
